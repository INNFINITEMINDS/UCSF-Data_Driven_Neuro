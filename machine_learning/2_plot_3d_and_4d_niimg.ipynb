{
 "cells": [
  {
   "cell_type": "code",
   "execution_count": null,
   "metadata": {
    "collapsed": false
   },
   "outputs": [],
   "source": [
    "%matplotlib inline\n",
    "import warnings\n",
    "warnings.filterwarnings(\"ignore\")"
   ]
  },
  {
   "cell_type": "markdown",
   "metadata": {},
   "source": [
    "# About this tutorial\n",
    "This is a quick refresher on how neuroimaging data is represented and stored in python.\n",
    "\n",
    "# 3D and 4D niimgs: handling and visualizing\n",
    "\n",
    "In python, volume data is represented in a common format called \"nifty\" format. It has the extension `.nii` or `.nii.gz`. There are many packages for deadling with this format in python, though the most common is called `nibabel`.\n",
    "\n",
    "Here we'll cover how to work with 3D and 4D niimgs, with a focus on the following topics:\n",
    "\n",
    "* Loading neuroimaging data from disk\n",
    "* Accessing the raw data and its properties\n",
    "* Doing some simple visualizations of the data (in 3D and over time)"
   ]
  },
  {
   "cell_type": "markdown",
   "metadata": {},
   "source": [
    "# Downloading tutorial datasets from Internet\n",
    "\n",
    "Nilearn comes with functions that download public data from Internet. These are common or well-known tasks in neuroscience that have been made public by the researchers.\n",
    "\n",
    "Let's first check where the data is downloaded on our disk."
   ]
  },
  {
   "cell_type": "code",
   "execution_count": null,
   "metadata": {
    "collapsed": true
   },
   "outputs": [],
   "source": [
    "from nilearn import datasets\n",
    "import nibabel as nb\n",
    "import os.path as op"
   ]
  },
  {
   "cell_type": "code",
   "execution_count": null,
   "metadata": {
    "collapsed": false
   },
   "outputs": [],
   "source": [
    "path_data = op.expanduser('~/data_ucsf/machine_learning')\n",
    "print('Datasets are stored in: %r' % datasets.get_data_dirs(path_data))"
   ]
  },
  {
   "cell_type": "markdown",
   "metadata": {},
   "source": [
    "In this tutorial we won't do any analysis, but instead will take a look at the *results* of a previous analysis. We can represent things like statistical maps using nifty files (since these are just some statistic represented at each voxel in the volume). Let's now retrieve a motor contrast from a localizer experiment."
   ]
  },
  {
   "cell_type": "code",
   "execution_count": null,
   "metadata": {
    "collapsed": false
   },
   "outputs": [],
   "source": [
    "data = datasets.fetch_localizer_button_task(data_dir=path_data)\n",
    "print(data['description'])"
   ]
  },
  {
   "cell_type": "code",
   "execution_count": null,
   "metadata": {
    "collapsed": false
   },
   "outputs": [],
   "source": [
    "tmap_filenames = data['tmaps']\n",
    "print(tmap_filenames)"
   ]
  },
  {
   "cell_type": "markdown",
   "metadata": {},
   "source": [
    "Just as before, we can see that this dataset is well-described. It looks like we have the raw activity for the data in the `func` field, while the statistical maps are stored in `tmaps`. Let's take a look at this and visualize the statistic on the brain."
   ]
  },
  {
   "cell_type": "markdown",
   "metadata": {},
   "source": [
    "# Loading a raw 3d file\n",
    "## Nifty format structure\n",
    "Volume files are generally represented in \"nifty\" format in python. These are easy to read with the `nibabel` package."
   ]
  },
  {
   "cell_type": "code",
   "execution_count": null,
   "metadata": {
    "collapsed": false
   },
   "outputs": [],
   "source": [
    "# tmap_filenames is a list of filenames. We need to take the first one.\n",
    "tmap_filename = tmap_filenames[0]\n",
    "\n",
    "# Now load the data\n",
    "brain = nb.load(tmap_filename)"
   ]
  },
  {
   "cell_type": "markdown",
   "metadata": {},
   "source": [
    "If you look inside `brain`, you'll find a number of methods and attributes in python that let you do different things with it. For example, we could return the transformation matrix to switch coordinate spaces:"
   ]
  },
  {
   "cell_type": "code",
   "execution_count": null,
   "metadata": {
    "collapsed": false
   },
   "outputs": [],
   "source": [
    "brain.affine"
   ]
  },
  {
   "cell_type": "markdown",
   "metadata": {},
   "source": [
    "However, here we will focus on the raw data itslef. The data for this volume is stored in the object, and we can access it as a numpy array:"
   ]
  },
  {
   "cell_type": "code",
   "execution_count": null,
   "metadata": {
    "collapsed": false
   },
   "outputs": [],
   "source": [
    "brain.get_data()[:2]"
   ]
  },
  {
   "cell_type": "code",
   "execution_count": null,
   "metadata": {
    "collapsed": false
   },
   "outputs": [],
   "source": [
    "# This is the dimensionality of the volume\n",
    "# it is 3D, AKA a snapshot of activity\n",
    "brain.get_data().shape"
   ]
  },
  {
   "cell_type": "markdown",
   "metadata": {},
   "source": [
    "With `nilearn`, we can do some quick plotting simply by pointing to the file name. That way we don't have to load in the data manually.\n",
    "\n",
    "## Visualizing a 3D file\n",
    "\n",
    "The file contains a 3D volume, and we can easily visualize it as a\n",
    "statistical map. `nilearn` has a number of functions for visualizing neuroimaging maps. These will generally take either a nifti object, or a file path to a nifti object."
   ]
  },
  {
   "cell_type": "code",
   "execution_count": null,
   "metadata": {
    "collapsed": true
   },
   "outputs": [],
   "source": [
    "from nilearn import plotting"
   ]
  },
  {
   "cell_type": "code",
   "execution_count": null,
   "metadata": {
    "collapsed": false
   },
   "outputs": [],
   "source": [
    "# Here we'll load the nifty object according to the statistical map\n",
    "tmap = nb.load(tmap_filename)\n",
    "\n",
    "# Then plot it\n",
    "plotting.plot_stat_map(tmap)\n",
    "\n",
    "# Alternatively, we could simply point it to the filename\n",
    "# plotting.plot_stat_map(tmap_filename)"
   ]
  },
  {
   "cell_type": "markdown",
   "metadata": {},
   "source": [
    "Note that the plotted background image was automatically assumed to be an MNI brain. If you have your own MRI images you can use these as well.\n",
    "\n",
    "We can also do simple manipulations of the visualization, such as applying a threshold:"
   ]
  },
  {
   "cell_type": "code",
   "execution_count": null,
   "metadata": {
    "collapsed": false
   },
   "outputs": [],
   "source": [
    "plotting.plot_stat_map(tmap_filename, threshold=3)"
   ]
  },
  {
   "cell_type": "markdown",
   "metadata": {},
   "source": [
    "If you wish to see a collection of slices across an axis, you can use the `display_mode` argument:"
   ]
  },
  {
   "cell_type": "code",
   "execution_count": null,
   "metadata": {
    "collapsed": false
   },
   "outputs": [],
   "source": [
    "# For the y-axis\n",
    "plotting.plot_stat_map(tmap_filename, threshold=3, display_mode='y')"
   ]
  },
  {
   "cell_type": "markdown",
   "metadata": {},
   "source": [
    "You can also define the number of slices that are displayed by passing an integer to the `cut_coords` parameter."
   ]
  },
  {
   "cell_type": "code",
   "execution_count": null,
   "metadata": {
    "collapsed": false
   },
   "outputs": [],
   "source": [
    "plotting.plot_stat_map(tmap_filename, threshold=3,\n",
    "                       display_mode='z', cut_coords=10)"
   ]
  },
  {
   "cell_type": "markdown",
   "metadata": {},
   "source": [
    "# Visualizing one volume in a 4D file\n",
    "\n",
    "Finally, as we often do *functional* neuroimaging, we have another dimension to care about: time.\n",
    "\n",
    "Fortunately, nifti files (and `nilearn`) are designed with time in mind. As an example, we'll download resting-state networks from the Smith 2009 study on correspondance between rest and task."
   ]
  },
  {
   "cell_type": "code",
   "execution_count": null,
   "metadata": {
    "collapsed": false
   },
   "outputs": [],
   "source": [
    "rsn = datasets.fetch_atlas_smith_2009(data_dir=path_data)['rsn10']\n",
    "print(rsn)"
   ]
  },
  {
   "cell_type": "markdown",
   "metadata": {},
   "source": [
    "## nilearn image I/O\n",
    "Note that `nilearn` has its own module for loading / writing nifty files. This is using the `nibabel` package under the hood, but we'll use the `nilearn` functions below so you can see how the syntax works. We'll load in this file, which is a 4D nifti file. We'll load it into memory and print its shape."
   ]
  },
  {
   "cell_type": "code",
   "execution_count": null,
   "metadata": {
    "collapsed": false
   },
   "outputs": [],
   "source": [
    "from nilearn import image\n",
    "\n",
    "print(nb.load(rsn).shape)"
   ]
  },
  {
   "cell_type": "markdown",
   "metadata": {},
   "source": [
    "The axes are now `(i, j, k, time)`\n",
    "\n",
    "We can retrieve the first volume, which corresponds to the first sample in this dataset (note that Python indexing starts at 0):"
   ]
  },
  {
   "cell_type": "code",
   "execution_count": null,
   "metadata": {
    "collapsed": false
   },
   "outputs": [],
   "source": [
    "first_rsn = image.index_img(rsn, 0)\n",
    "print(first_rsn.shape)"
   ]
  },
  {
   "cell_type": "markdown",
   "metadata": {},
   "source": [
    "first_rsn is a 3D image.\n",
    "\n",
    "We can then plot it with the same functions as before."
   ]
  },
  {
   "cell_type": "code",
   "execution_count": null,
   "metadata": {
    "collapsed": false
   },
   "outputs": [],
   "source": [
    "plotting.plot_stat_map(first_rsn)"
   ]
  },
  {
   "cell_type": "markdown",
   "metadata": {},
   "source": [
    "# Looping on all volumes in a 4D file\n",
    "\n",
    "If we want to plot all the volumes in this 4D file, we can use iter_img\n",
    "to loop on them. This is similar to plotting statistical maps as you move down a particular axis of the 3-D brain, but you're looping across time instead.\n",
    "\n",
    "Then we give a few arguments to plot_stat_map in order to have a more\n",
    "compact display. We'll plot a single slice of the z-axis over time."
   ]
  },
  {
   "cell_type": "code",
   "execution_count": null,
   "metadata": {
    "collapsed": false
   },
   "outputs": [],
   "source": [
    "for img in image.iter_img(rsn):\n",
    "    # img is now an in-memory 3D img\n",
    "    plotting.plot_stat_map(img, threshold=3, colorbar=False,\n",
    "                           cut_coords=(0, 0, 0))"
   ]
  },
  {
   "cell_type": "markdown",
   "metadata": {},
   "source": [
    "# Recap\n",
    "To recap, neuroimaging images (niimgs as we call them) come in\n",
    "different flavors:\n",
    "\n",
    "* 3D images, containing only one brain volume\n",
    "* 4D images, containing multiple brain volumes.\n",
    "\n",
    "More details about the input formats in nilearn for 3D and 4D images is\n",
    "given in the documentation section for nilearn.\n",
    "\n",
    "Functions accept either 3D or 4D images, and we need to use these with either `nilearn.image.index_img` or `nilearn.image.iter_img`\n",
    "to break down 4D images into 3D images."
   ]
  }
 ],
 "metadata": {
  "anaconda-cloud": {},
  "kernelspec": {
   "display_name": "Python 3",
   "language": "python",
   "name": "python3"
  },
  "language_info": {
   "codemirror_mode": {
    "name": "ipython",
    "version": 3
   },
   "file_extension": ".py",
   "mimetype": "text/x-python",
   "name": "python",
   "nbconvert_exporter": "python",
   "pygments_lexer": "ipython3",
   "version": "3.5.2"
  }
 },
 "nbformat": 4,
 "nbformat_minor": 0
}
