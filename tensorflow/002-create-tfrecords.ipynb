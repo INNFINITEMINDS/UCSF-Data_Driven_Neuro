{
 "cells": [
  {
   "cell_type": "code",
   "execution_count": 1,
   "metadata": {
    "collapsed": false
   },
   "outputs": [],
   "source": [
    "import numpy as np\n",
    "import pandas as pd\n",
    "import tensorflow as tf\n",
    "from tqdm import tqdm"
   ]
  },
  {
   "cell_type": "code",
   "execution_count": 2,
   "metadata": {
    "collapsed": false
   },
   "outputs": [],
   "source": [
    "labels_df = pd.read_csv('../data/labels.csv')"
   ]
  },
  {
   "cell_type": "code",
   "execution_count": 3,
   "metadata": {
    "collapsed": true
   },
   "outputs": [],
   "source": [
    "import skimage.io as sio\n",
    "import os\n",
    "import os.path as op\n",
    "import fnmatch"
   ]
  },
  {
   "cell_type": "code",
   "execution_count": 4,
   "metadata": {
    "collapsed": false
   },
   "outputs": [],
   "source": [
    "cell_images = []\n",
    "for cell_file in labels_df['file']:\n",
    "    cell_images.append(sio.imread(op.join('../data/cells/', cell_file)))\n",
    "\n",
    "img_data = np.array(cell_images)"
   ]
  },
  {
   "cell_type": "code",
   "execution_count": 5,
   "metadata": {
    "collapsed": false
   },
   "outputs": [
    {
     "data": {
      "text/plain": [
       "(844, 256, 256, 3)"
      ]
     },
     "execution_count": 5,
     "metadata": {},
     "output_type": "execute_result"
    }
   ],
   "source": [
    "img_data.shape"
   ]
  },
  {
   "cell_type": "code",
   "execution_count": 6,
   "metadata": {
    "collapsed": true
   },
   "outputs": [],
   "source": [
    "labels_data = labels_df['label']"
   ]
  },
  {
   "cell_type": "code",
   "execution_count": 7,
   "metadata": {
    "collapsed": true
   },
   "outputs": [],
   "source": [
    "one_hot_labels = np.zeros((labels_data.shape[0], len(np.unique(labels_data))))\n",
    "one_hot_labels[np.arange(labels_data.shape[0]), labels_data] = 1"
   ]
  },
  {
   "cell_type": "code",
   "execution_count": 8,
   "metadata": {
    "collapsed": true
   },
   "outputs": [],
   "source": [
    "import os.path as op\n",
    "tfrecords_train_file = op.join('../data', 'cells_train.tfrecords')\n",
    "tfrecords_test_file = op.join('../data', 'cells_test.tfrecords')"
   ]
  },
  {
   "cell_type": "code",
   "execution_count": 9,
   "metadata": {
    "collapsed": false
   },
   "outputs": [],
   "source": [
    "idx = np.arange(img_data.shape[0])\n",
    "\n",
    "# one MUST randomly shuffle data before putting it into one of these\n",
    "# formats. Without this, one cannot make use of tensorflow's great\n",
    "# out of core shuffling.\n",
    "\n",
    "np.random.shuffle(idx)\n",
    "\n",
    "prop_train = 0.8\n",
    "\n",
    "train_idx = idx[:int(prop_train*idx.shape[0])]\n",
    "test_idx = idx[int(prop_train*idx.shape[0]):]"
   ]
  },
  {
   "cell_type": "code",
   "execution_count": 10,
   "metadata": {
    "collapsed": false
   },
   "outputs": [],
   "source": [
    "def _int64_feature(value):\n",
    "      return tf.train.Feature(int64_list=tf.train.Int64List(value=[value]))\n",
    "\n",
    "\n",
    "def _bytes_feature(value):\n",
    "      return tf.train.Feature(bytes_list=tf.train.BytesList(value=[value]))\n",
    "\n",
    "    \n",
    "\n",
    "def write_tfrecords(img_data, labels_data, fname, idx):\n",
    "    writer = tf.python_io.TFRecordWriter(fname)\n",
    "    # iterate over each example\n",
    "    # wrap with tqdm for a progress bar\n",
    "    for example_idx in tqdm(idx):\n",
    "        \n",
    "        image = img_data[example_idx]\n",
    "        label = labels_data[example_idx]\n",
    "        rows = image.shape[0]\n",
    "        cols = image.shape[1]\n",
    "        depth = image.shape[2]\n",
    "        image_raw = image.tostring()\n",
    "        # construct the Example proto object\n",
    "        example = tf.train.Example(\n",
    "            # Example contains a Features proto object\n",
    "            features=tf.train.Features(feature={\n",
    "            # Features contains a map of string to Feature proto objects\n",
    "                'image/height': _int64_feature(rows),\n",
    "                'image/width': _int64_feature(cols), \n",
    "                'image/depth': _int64_feature(depth),\n",
    "                'label': _int64_feature(int(label)),\n",
    "                'image/raw': _bytes_feature(image_raw)}))\n",
    "                \n",
    "        # use the proto object to serialize the example to a string\n",
    "        serialized = example.SerializeToString()\n",
    "        # write the serialized object to disk\n",
    "        writer.write(serialized)\n",
    "\n",
    "    writer.close()\n"
   ]
  },
  {
   "cell_type": "code",
   "execution_count": 11,
   "metadata": {
    "collapsed": false
   },
   "outputs": [
    {
     "name": "stderr",
     "output_type": "stream",
     "text": [
      "100%|██████████| 675/675 [00:01<00:00, 382.94it/s]\n"
     ]
    }
   ],
   "source": [
    "write_tfrecords(img_data, labels_data, tfrecords_train_file, train_idx)"
   ]
  },
  {
   "cell_type": "code",
   "execution_count": 12,
   "metadata": {
    "collapsed": false
   },
   "outputs": [
    {
     "name": "stderr",
     "output_type": "stream",
     "text": [
      "100%|██████████| 169/169 [00:00<00:00, 501.93it/s]\n"
     ]
    }
   ],
   "source": [
    "write_tfrecords(img_data, labels_data, tfrecords_test_file, test_idx)"
   ]
  },
  {
   "cell_type": "code",
   "execution_count": null,
   "metadata": {
    "collapsed": true
   },
   "outputs": [],
   "source": []
  }
 ],
 "metadata": {
  "kernelspec": {
   "display_name": "Python 3",
   "language": "python",
   "name": "python3"
  },
  "language_info": {
   "codemirror_mode": {
    "name": "ipython",
    "version": 3
   },
   "file_extension": ".py",
   "mimetype": "text/x-python",
   "name": "python",
   "nbconvert_exporter": "python",
   "pygments_lexer": "ipython3",
   "version": "3.5.1"
  }
 },
 "nbformat": 4,
 "nbformat_minor": 0
}
