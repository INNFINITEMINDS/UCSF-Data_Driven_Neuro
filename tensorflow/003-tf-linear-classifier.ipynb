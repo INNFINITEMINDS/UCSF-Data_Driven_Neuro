{
 "cells": [
  {
   "cell_type": "code",
   "execution_count": 1,
   "metadata": {
    "collapsed": true
   },
   "outputs": [],
   "source": [
    "import numpy as np\n",
    "import matplotlib.pyplot as plt\n",
    "%matplotlib inline"
   ]
  },
  {
   "cell_type": "code",
   "execution_count": 2,
   "metadata": {
    "collapsed": true
   },
   "outputs": [],
   "source": [
    "import tensorflow as tf"
   ]
  },
  {
   "cell_type": "code",
   "execution_count": 3,
   "metadata": {
    "collapsed": true
   },
   "outputs": [],
   "source": [
    "def read_and_decode_single_example(filename):\n",
    "    # first construct a queue containing a list of filenames.\n",
    "    # this lets a user split up there dataset in multiple files to keep\n",
    "    # size down\n",
    "    filename_queue = tf.train.string_input_producer([filename],\n",
    "                                                    num_epochs=None)\n",
    "    # Unlike the TFRecordWriter, the TFRecordReader is symbolic\n",
    "    reader = tf.TFRecordReader()\n",
    "    # One can read a single serialized example from a filename\n",
    "    # serialized_example is a Tensor of type string.\n",
    "    _, serialized_example = reader.read(filename_queue)\n",
    "    # The serialized example is converted back to actual values.\n",
    "    # One needs to describe the format of the objects to be returned\n",
    "    features = tf.parse_single_example(\n",
    "        serialized_example,\n",
    "        features={\n",
    "            # We know the length of both fields. If not the\n",
    "            # tf.VarLenFeature could be used\n",
    "            # 'label': tf.VarLenFeature(tf.int64),\n",
    "            'label': tf.FixedLenFeature([], tf.int64),\n",
    "            'image': tf.FixedLenFeature([256 * 256 * 3], tf.int64)\n",
    "        })\n",
    "    # now return the converted data\n",
    "    label = features['label']\n",
    "    image = features['image']\n",
    "    return label, image"
   ]
  },
  {
   "cell_type": "code",
   "execution_count": 4,
   "metadata": {
    "collapsed": true
   },
   "outputs": [],
   "source": [
    "label, image = read_and_decode_single_example('../data/cells_train.tfrecords')"
   ]
  },
  {
   "cell_type": "code",
   "execution_count": 5,
   "metadata": {
    "collapsed": false
   },
   "outputs": [],
   "source": [
    "sess = tf.Session()\n",
    "init = tf.global_variables_initializer()\n",
    "tf.train.start_queue_runners(sess=sess)\n",
    "\n",
    "label_val_1, image_val_1 = sess.run([label, image])\n",
    "# second example from file\n",
    "label_val_2, image_val_2 = sess.run([label, image])"
   ]
  },
  {
   "cell_type": "code",
   "execution_count": 6,
   "metadata": {
    "collapsed": false
   },
   "outputs": [
    {
     "data": {
      "text/plain": [
       "(2, array([41, 41, 43, ..., 35, 35, 37]))"
      ]
     },
     "execution_count": 6,
     "metadata": {},
     "output_type": "execute_result"
    }
   ],
   "source": [
    "label_val_1, image_val_1"
   ]
  },
  {
   "cell_type": "code",
   "execution_count": 7,
   "metadata": {
    "collapsed": false,
    "scrolled": false
   },
   "outputs": [],
   "source": [
    "# get single examples\n",
    "label, image = read_and_decode_single_example(\"../data/cells_train.tfrecords\")\n",
    "# Normalize the images to [-0.5, 0.5]\n",
    "image = (tf.cast(image, tf.float32) / 255. ) - 0.5\n",
    "# The following groups the examples into batches randomly\n",
    "images_batch, labels_batch = tf.train.shuffle_batch(\n",
    "    [image, label], batch_size=40,\n",
    "    capacity=400,\n",
    "    min_after_dequeue=200)\n",
    "\n",
    "# The model: y_pred = Wx + b\n",
    "W = tf.get_variable(\"W\", [256 * 256 * 3, 3])\n",
    "b = tf.get_variable(\"b\", [3])\n",
    "y_pred = tf.matmul(images_batch, W) + b\n",
    "loss = tf.nn.sparse_softmax_cross_entropy_with_logits(y_pred, labels_batch)\n",
    "\n",
    "# We can use this for monitoring with TensorBoard:\n",
    "loss_mean = tf.reduce_mean(loss)\n",
    "\n",
    "train_op = tf.train.AdamOptimizer().minimize(loss)\n",
    "\n",
    "sess = tf.Session()\n",
    "init = tf.global_variables_initializer()\n",
    "sess.run(init)\n",
    "tf.train.start_queue_runners(sess=sess)\n",
    "\n",
    "n_iterations = 100\n",
    "losses = []\n",
    "#with tf.name_scope('train'):\n",
    "for ii in range(n_iterations):\n",
    "    # pass it in through the feed_dict\n",
    "    _, loss_val = sess.run([train_op, loss_mean])\n",
    "    losses.append(loss_val)\n",
    "#merged = tf.summary.merge_all()\n",
    "#train_writer = tf.summary.FileWriter(op.join('.', 'train'), sess.graph)"
   ]
  },
  {
   "cell_type": "code",
   "execution_count": 8,
   "metadata": {
    "collapsed": true
   },
   "outputs": [],
   "source": [
    "y_pred = tf.matmul(images_batch, W) "
   ]
  },
  {
   "cell_type": "code",
   "execution_count": 9,
   "metadata": {
    "collapsed": false
   },
   "outputs": [
    {
     "data": {
      "text/plain": [
       "0.52500000000000002"
      ]
     },
     "execution_count": 9,
     "metadata": {},
     "output_type": "execute_result"
    }
   ],
   "source": [
    "np.mean(sess.run(tf.equal(tf.argmax(y_pred, 1), labels_batch)))"
   ]
  },
  {
   "cell_type": "code",
   "execution_count": 10,
   "metadata": {
    "collapsed": false
   },
   "outputs": [
    {
     "data": {
      "text/plain": [
       "[<matplotlib.lines.Line2D at 0x105d11da0>]"
      ]
     },
     "execution_count": 10,
     "metadata": {},
     "output_type": "execute_result"
    },
    {
     "data": {
      "image/png": "[encoded data removed]",
      "text/plain": [
       "<matplotlib.figure.Figure at 0x104980d30>"
      ]
     },
     "metadata": {},
     "output_type": "display_data"
    }
   ],
   "source": [
    "plt.plot(losses)"
   ]
  },
  {
   "cell_type": "code",
   "execution_count": 11,
   "metadata": {
    "collapsed": false
   },
   "outputs": [],
   "source": [
    "test_iter = tf.python_io.tf_record_iterator('../data/cells_test.tfrecords')"
   ]
  },
  {
   "cell_type": "code",
   "execution_count": 12,
   "metadata": {
    "collapsed": false
   },
   "outputs": [],
   "source": [
    "correct_prediction = []\n",
    "for ii, this_test in enumerate(test_iter):\n",
    "    ex = tf.parse_single_example(this_test, \n",
    "                                 features={'label': tf.FixedLenFeature([], tf.int64),\n",
    "                                           'image': tf.FixedLenFeature([1, 256 * 256 * 3], tf.int64)})\n",
    "    x, y = ex['image'], ex['label']\n",
    "    x = (tf.cast(x, tf.float32) / 255. ) - 0.5\n",
    "    y_pred = tf.matmul(x, W) + b\n",
    "    correct_prediction.append(sess.run(tf.equal(tf.argmax(y_pred, 1), label)))\n"
   ]
  },
  {
   "cell_type": "code",
   "execution_count": 13,
   "metadata": {
    "collapsed": false
   },
   "outputs": [
    {
     "data": {
      "text/plain": [
       "0.378698224852071"
      ]
     },
     "execution_count": 13,
     "metadata": {},
     "output_type": "execute_result"
    }
   ],
   "source": [
    "np.mean(correct_prediction)"
   ]
  }
 ],
 "metadata": {
  "kernelspec": {
   "display_name": "Python 3",
   "language": "python",
   "name": "python3"
  },
  "language_info": {
   "codemirror_mode": {
    "name": "ipython",
    "version": 3
   },
   "file_extension": ".py",
   "mimetype": "text/x-python",
   "name": "python",
   "nbconvert_exporter": "python",
   "pygments_lexer": "ipython3",
   "version": "3.5.1"
  }
 },
 "nbformat": 4,
 "nbformat_minor": 0
}
