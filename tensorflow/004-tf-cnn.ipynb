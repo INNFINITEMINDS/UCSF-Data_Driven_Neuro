{
 "cells": [
  {
   "cell_type": "code",
   "execution_count": 1,
   "metadata": {
    "collapsed": true
   },
   "outputs": [],
   "source": [
    "import numpy as np\n",
    "import matplotlib.pyplot as plt\n",
    "%matplotlib inline"
   ]
  },
  {
   "cell_type": "code",
   "execution_count": 2,
   "metadata": {
    "collapsed": true
   },
   "outputs": [],
   "source": [
    "import tensorflow as tf"
   ]
  },
  {
   "cell_type": "code",
   "execution_count": 3,
   "metadata": {
    "collapsed": true
   },
   "outputs": [],
   "source": [
    "def read_and_decode(filename):\n",
    "    filename_queue = tf.train.string_input_producer([filename],\n",
    "                                                    num_epochs=None)\n",
    "\n",
    "    reader = tf.TFRecordReader()\n",
    "    _, serialized_example = reader.read(filename_queue)\n",
    "    features = tf.parse_single_example(\n",
    "        serialized_example,\n",
    "        features={\n",
    "                'image/height': tf.FixedLenFeature([], tf.int64),\n",
    "                'image/width': tf.FixedLenFeature([], tf.int64),\n",
    "                'image/depth': tf.FixedLenFeature([], tf.int64),\n",
    "                'label': tf.FixedLenFeature([], tf.int64),\n",
    "                'image/raw': tf.VarLenFeature(tf.string)})\n",
    "\n",
    "    # Shape elements must be int32 tensors!\n",
    "    height = tf.cast(features['image/height'], tf.int32)\n",
    "    width = tf.cast(features['image/width'], tf.int32)\n",
    "    depth = tf.cast(features['image/depth'], tf.int32)\n",
    "    \n",
    "    # Decode the image from its raw representation:\n",
    "    image = tf.decode_raw(features['image/raw'].values, tf.uint8)\n",
    "\n",
    "    # Reshape it back to its original shape:\n",
    "    im_shape = tf.pack([height, width, depth])\n",
    "    image = tf.reshape(image, im_shape)\n",
    "    #tf.random_crop(image, [height, width, depth])\n",
    "    # Convert from [0, 255] -> [0, 1] floats.\n",
    "    image = tf.cast(image, tf.float32) * (1. / 255)\n",
    "\n",
    "    # Convert label from a scalar uint8 tensor to an int32 scalar.\n",
    "    label = tf.cast(features['label'], tf.int32)\n",
    "    return image, label"
   ]
  },
  {
   "cell_type": "code",
   "execution_count": 4,
   "metadata": {
    "collapsed": true
   },
   "outputs": [],
   "source": [
    "image, label = read_and_decode(\"../data/cells_train.tfrecords\")\n",
    "sess = tf.Session()\n",
    "init = tf.global_variables_initializer()\n",
    "sess.run(init)\n",
    "tf.train.start_queue_runners(sess=sess)\n",
    "im_1, lab_1 = sess.run([image, label])"
   ]
  },
  {
   "cell_type": "code",
   "execution_count": 5,
   "metadata": {
    "collapsed": false
   },
   "outputs": [],
   "source": [
    "image, label = read_and_decode(\"../data/cells_train.tfrecords\")\n",
    "images_batch, labels_batch = tf.train.shuffle_batch(\n",
    "    [image, label], batch_size=10,\n",
    "    capacity=400,\n",
    "    shapes=(im_1.shape, lab_1.shape),\n",
    "    min_after_dequeue=200)"
   ]
  },
  {
   "cell_type": "code",
   "execution_count": 6,
   "metadata": {
    "collapsed": true
   },
   "outputs": [],
   "source": [
    "def weight_variable(shape, fan_in, fan_out):\n",
    "    \"\"\" \n",
    "    Initialize weights with the Xavier initialization\n",
    "    \"\"\"\n",
    "    low = -4*np.sqrt(6.0/(fan_in + fan_out)) \n",
    "    high = 4*np.sqrt(6.0/(fan_in + fan_out))\n",
    "    return tf.Variable(tf.random_uniform(shape, minval=low, maxval=high, dtype=tf.float32))\n",
    "\n",
    "def bias_variable(shape):\n",
    "    initial = tf.constant(0.1, shape=shape)\n",
    "    return tf.Variable(initial)"
   ]
  },
  {
   "cell_type": "code",
   "execution_count": 7,
   "metadata": {
    "collapsed": true
   },
   "outputs": [],
   "source": [
    "def conv2d(x, W):\n",
    "    return tf.nn.conv2d(x, W, strides=[1, 1, 1, 1], padding='SAME')\n",
    "\n",
    "def max_pool_2x2(x):\n",
    "    return tf.nn.max_pool(x, ksize=[1, 2, 2, 1],\n",
    "                          strides=[1, 2, 2, 1], padding='SAME')"
   ]
  },
  {
   "cell_type": "code",
   "execution_count": 8,
   "metadata": {
    "collapsed": false
   },
   "outputs": [],
   "source": [
    "W_conv1 = weight_variable([5, 5, 3, 32], 256*256*3, 32)\n",
    "b_conv1 = bias_variable([32])"
   ]
  },
  {
   "cell_type": "markdown",
   "metadata": {},
   "source": [
    "First convolutional layer:"
   ]
  },
  {
   "cell_type": "code",
   "execution_count": 9,
   "metadata": {
    "collapsed": false
   },
   "outputs": [],
   "source": [
    "h_conv1 = tf.nn.relu(conv2d(images_batch, W_conv1) + b_conv1)\n",
    "h_pool1 = max_pool_2x2(h_conv1)"
   ]
  },
  {
   "cell_type": "markdown",
   "metadata": {},
   "source": [
    "Second convolutional layer:"
   ]
  },
  {
   "cell_type": "code",
   "execution_count": 10,
   "metadata": {
    "collapsed": true
   },
   "outputs": [],
   "source": [
    "W_conv2 = weight_variable([5, 5, 32, 64], 128*128*32, 64)\n",
    "b_conv2 = bias_variable([64])\n",
    "\n",
    "h_conv2 = tf.nn.relu(conv2d(h_pool1, W_conv2) + b_conv2)\n",
    "h_pool2 = max_pool_2x2(h_conv2)"
   ]
  },
  {
   "cell_type": "markdown",
   "metadata": {},
   "source": [
    "Fully connected layer:"
   ]
  },
  {
   "cell_type": "code",
   "execution_count": 11,
   "metadata": {
    "collapsed": false
   },
   "outputs": [
    {
     "data": {
      "text/plain": [
       "TensorShape([Dimension(10), Dimension(64), Dimension(64), Dimension(64)])"
      ]
     },
     "execution_count": 11,
     "metadata": {},
     "output_type": "execute_result"
    }
   ],
   "source": [
    "h_pool2.get_shape()"
   ]
  },
  {
   "cell_type": "code",
   "execution_count": 12,
   "metadata": {
    "collapsed": false
   },
   "outputs": [],
   "source": [
    "W_fc1 = weight_variable([64 * 64 * 64, 1024], 64*64*64, 1024)\n",
    "b_fc1 = bias_variable([1024])\n",
    "\n",
    "h_pool2_flat = tf.reshape(h_pool2, [-1, 64 * 64 * 64])\n",
    "h_fc1 = tf.nn.relu(tf.matmul(h_pool2_flat, W_fc1) + b_fc1)"
   ]
  },
  {
   "cell_type": "markdown",
   "metadata": {},
   "source": [
    "Dropout:"
   ]
  },
  {
   "cell_type": "code",
   "execution_count": 13,
   "metadata": {
    "collapsed": true
   },
   "outputs": [],
   "source": [
    "keep_prob = tf.placeholder(tf.float32)\n",
    "h_fc1_drop = tf.nn.dropout(h_fc1, keep_prob)"
   ]
  },
  {
   "cell_type": "markdown",
   "metadata": {},
   "source": [
    "Readout:"
   ]
  },
  {
   "cell_type": "code",
   "execution_count": 14,
   "metadata": {
    "collapsed": true
   },
   "outputs": [],
   "source": [
    "W_fc2 = weight_variable([1024, 3], 1024, 3)\n",
    "b_fc2 = bias_variable([3])\n",
    "y_conv = tf.matmul(h_fc1_drop, W_fc2) + b_fc2"
   ]
  },
  {
   "cell_type": "code",
   "execution_count": 15,
   "metadata": {
    "collapsed": true
   },
   "outputs": [],
   "source": [
    "loss = tf.nn.sparse_softmax_cross_entropy_with_logits(y_conv, labels_batch)\n",
    "loss_mean = tf.reduce_mean(loss)\n",
    "train_op = tf.train.AdamOptimizer(1e-5).minimize(loss_mean)"
   ]
  },
  {
   "cell_type": "code",
   "execution_count": 16,
   "metadata": {
    "collapsed": true
   },
   "outputs": [],
   "source": [
    "y_pred = tf.cast(tf.argmax(y_conv, 1), tf.int32)"
   ]
  },
  {
   "cell_type": "code",
   "execution_count": 17,
   "metadata": {
    "collapsed": false
   },
   "outputs": [],
   "source": [
    "correct_prediction = tf.equal(y_pred, labels_batch)\n",
    "accuracy = tf.reduce_mean(tf.cast(correct_prediction, tf.float32))"
   ]
  },
  {
   "cell_type": "code",
   "execution_count": 18,
   "metadata": {
    "collapsed": false
   },
   "outputs": [],
   "source": [
    "# # These variables are used for evaluation (helping to decide when to stop training):\n",
    "# image_eval, label_eval = read_and_decode(\"../data/cells_eval.tfrecords\")\n",
    "\n",
    "# this_image = tf.placeholder(\"float\", shape=[1, im_1.shape[0], im_1.shape[1], im_1.shape[2]])\n",
    "# this_label = tf.placeholder(\"int32\", shape=[])\n",
    "\n",
    "# # Reproducing the entire network on eval data:\n",
    "# h_conv1_eval = tf.nn.relu(conv2d(this_image, W_conv1) + b_conv1)\n",
    "# h_pool1_eval = max_pool_2x2(h_conv1_eval)\n",
    "\n",
    "# h_conv2_eval = tf.nn.relu(conv2d(h_pool1_eval, W_conv2) + b_conv2)\n",
    "# h_pool2_eval = max_pool_2x2(h_conv2)\n",
    "\n",
    "# h_pool2_flat_eval = tf.reshape(h_pool2, [-1, 64 * 64 * 64])\n",
    "# h_fc1_eval = tf.nn.relu(tf.matmul(h_pool2_flat, W_fc1) + b_fc1)\n",
    "\n",
    "# y_pred_eval = tf.matmul(h_fc1_eval, W_fc2) + b_fc2\n",
    "\n",
    "# correct_prediction = tf.reduce_mean(\n",
    "#     tf.cast(tf.equal(tf.cast(tf.argmax(y_pred_eval, 1), tf.int32), this_label), tf.int8))"
   ]
  },
  {
   "cell_type": "code",
   "execution_count": 19,
   "metadata": {
    "collapsed": false
   },
   "outputs": [
    {
     "data": {
      "text/plain": [
       "[<Thread(Thread-4, started daemon 123145547661312)>,\n",
       " <Thread(Thread-5, started daemon 123145552916480)>,\n",
       " <Thread(Thread-6, started daemon 123145558171648)>]"
      ]
     },
     "execution_count": 19,
     "metadata": {},
     "output_type": "execute_result"
    }
   ],
   "source": [
    "sess = tf.Session()\n",
    "init = tf.global_variables_initializer()\n",
    "sess.run(init)\n",
    "tf.train.start_queue_runners(sess=sess)"
   ]
  },
  {
   "cell_type": "code",
   "execution_count": 20,
   "metadata": {
    "collapsed": false
   },
   "outputs": [
    {
     "name": "stdout",
     "output_type": "stream",
     "text": [
      "step 0, training accuracy 0.1\n",
      "4.59583\n",
      "97.8362\n",
      "50.8063\n",
      "45.7374\n",
      "54.0524\n",
      "27.2078\n",
      "2.7953\n",
      "33.5259\n",
      "4.95413\n",
      "15.3977\n",
      "step 10, training accuracy 0.4\n",
      "5.93069\n",
      "3.9617\n",
      "4.18758\n",
      "5.09049\n",
      "3.07566\n",
      "2.73532\n",
      "1.85238\n",
      "1.75176\n",
      "2.1985\n",
      "1.66059\n",
      "step 20, training accuracy 0.3\n",
      "1.02634\n",
      "1.31306\n",
      "1.49257\n",
      "0.999313\n",
      "1.2427\n",
      "1.04478\n",
      "1.0548\n",
      "0.988771\n",
      "0.996578\n",
      "0.932116\n",
      "step 30, training accuracy 0.1\n",
      "1.01739\n",
      "1.19258\n",
      "0.961293\n",
      "1.04729\n",
      "1.07643\n",
      "0.727236\n",
      "0.861332\n",
      "0.839987\n",
      "1.37751\n",
      "1.84061\n",
      "step 40, training accuracy 0.4\n",
      "1.45401\n",
      "1.32185\n",
      "1.02408\n",
      "0.88612\n",
      "1.24057\n",
      "1.35262\n",
      "1.10012\n",
      "1.32042\n",
      "1.03975\n",
      "1.2472\n",
      "step 50, training accuracy 0.6\n",
      "1.33491\n",
      "1.23112\n",
      "1.2214\n",
      "1.28937\n",
      "1.03781\n",
      "1.10638\n",
      "1.36075\n",
      "1.07257\n",
      "1.38713\n",
      "1.0697\n",
      "step 60, training accuracy 0.6\n",
      "1.12484\n",
      "1.21361\n",
      "1.20904\n",
      "1.20397\n",
      "0.877946\n",
      "1.28786\n",
      "1.14204\n",
      "1.29382\n",
      "1.02098\n",
      "1.19843\n",
      "step 70, training accuracy 0.5\n",
      "1.39144\n",
      "1.13416\n",
      "1.16539\n",
      "1.063\n",
      "1.07501\n",
      "1.5122\n",
      "1.28589\n",
      "1.32029\n",
      "1.1073\n",
      "1.08224\n",
      "step 80, training accuracy 0.3\n",
      "1.06803\n",
      "0.95657\n",
      "1.11021\n",
      "1.13795\n",
      "1.35367\n",
      "1.23982\n",
      "0.73891\n",
      "1.19062\n",
      "1.11327\n",
      "1.44782\n",
      "step 90, training accuracy 0.4\n",
      "1.21972\n",
      "1.15299\n",
      "0.979909\n",
      "1.18737\n",
      "1.05646\n",
      "1.22871\n",
      "1.11189\n",
      "1.11723\n",
      "1.05141\n",
      "1.45551\n"
     ]
    }
   ],
   "source": [
    "mean_losses = []\n",
    "for i in range(100):\n",
    "    # Every 10 steps, evaluate accuracy:\n",
    "    if i%10 == 0:\n",
    "        train_accuracy = sess.run(accuracy, feed_dict={keep_prob: 1.0})\n",
    "        print(\"step %d, training accuracy %g\" % (i, train_accuracy)) \n",
    "\n",
    "    _, loss_mean_val = sess.run([train_op, loss_mean], feed_dict={keep_prob: 0.5})\n",
    "    mean_losses.append(loss_mean_val)\n",
    "    print(loss_mean_val)"
   ]
  },
  {
   "cell_type": "code",
   "execution_count": 29,
   "metadata": {
    "collapsed": false
   },
   "outputs": [
    {
     "data": {
      "text/plain": [
       "array([ 0.40256444,  0.66997373,  1.46841836,  1.0090766 ,  1.04607761,\n",
       "        1.53120852,  0.88761938,  1.02302587,  1.49911809,  1.01013064], dtype=float32)"
      ]
     },
     "execution_count": 29,
     "metadata": {},
     "output_type": "execute_result"
    }
   ],
   "source": [
    "#sess.run(y_pred, feed_dict={keep_prob: 0.5})\n",
    "sess.run(loss, feed_dict={keep_prob: 1.0})"
   ]
  },
  {
   "cell_type": "code",
   "execution_count": 21,
   "metadata": {
    "collapsed": false
   },
   "outputs": [],
   "source": [
    "# n_iterations = 0\n",
    "# mean_losses = []\n",
    "# mean_evals = []\n",
    "# max_iterations = 5000\n",
    "\n",
    "# while True:    \n",
    "#     # We need to feed it the drop-out probability from a floating point variable\n",
    "#     _, loss_mean_val = sess.run([train_op, loss_mean], feed_dict={keep_prob: 0.5})\n",
    "#     # Store the loss so we can look at it:\n",
    "#     mean_losses.append(loss_mean_val)\n",
    "#     print(loss_mean_val)\n",
    "#     # Every 10 learning iterations, we consider whether to stop:\n",
    "#     if np.mod(n_iterations, 10) == 0:\n",
    "#         p = []\n",
    "#         # We're hard-coding the size of the entire eval data here and predicting them one by one:\n",
    "#         for ii in range(169):\n",
    "#             im, la = sess.run([image_eval, label_eval])\n",
    "#             # It expects a 4D input, because that's what TF convs take as input:\n",
    "#             im = im[np.newaxis, :]\n",
    "#             p.append(sess.run(correct_prediction, feed_dict={this_image:im, this_label:la}))\n",
    "\n",
    "#         mean_evals.append(np.mean(p))\n",
    "#         print(\"After %s iterations, cross-validation accuracy is: %s\" % (n_iterations, mean_evals[-1]))\n",
    "#         # But we really only start thinking about stopping \n",
    "#         # after 2000 iterations:\n",
    "#         if n_iterations > 2000:\n",
    "#             # Here's how we decide whether to keep going, \n",
    "#             # based on the held-out data:            \n",
    "#             # If you are still improving, relative to recent past keep training:\n",
    "#             if mean_evals[-1] < (np.mean(mean_evals[-10:-1])):\n",
    "#                 break\n",
    "\n",
    "#     # If we're still around iterate:\n",
    "#     n_iterations = n_iterations + 1  \n",
    "\n",
    "#     # If you kept going for very long, break anyway:\n",
    "#     if n_iterations > max_iterations:\n",
    "#         break"
   ]
  },
  {
   "cell_type": "code",
   "execution_count": 22,
   "metadata": {
    "collapsed": false
   },
   "outputs": [
    {
     "ename": "NameError",
     "evalue": "name 'n_iterations' is not defined",
     "output_type": "error",
     "traceback": [
      "\u001b[0;31m---------------------------------------------------------------------------\u001b[0m",
      "\u001b[0;31mNameError\u001b[0m                                 Traceback (most recent call last)",
      "\u001b[0;32m<ipython-input-22-6cf814362c49>\u001b[0m in \u001b[0;36m<module>\u001b[0;34m()\u001b[0m\n\u001b[1;32m      2\u001b[0m \u001b[0max\u001b[0m\u001b[0;34m.\u001b[0m\u001b[0mplot\u001b[0m\u001b[0;34m(\u001b[0m\u001b[0mmean_losses\u001b[0m\u001b[0;34m)\u001b[0m\u001b[0;34m\u001b[0m\u001b[0m\n\u001b[1;32m      3\u001b[0m \u001b[0max2\u001b[0m \u001b[0;34m=\u001b[0m \u001b[0mplt\u001b[0m\u001b[0;34m.\u001b[0m\u001b[0mtwinx\u001b[0m\u001b[0;34m(\u001b[0m\u001b[0;34m)\u001b[0m\u001b[0;34m\u001b[0m\u001b[0m\n\u001b[0;32m----> 4\u001b[0;31m \u001b[0max2\u001b[0m\u001b[0;34m.\u001b[0m\u001b[0mplot\u001b[0m\u001b[0;34m(\u001b[0m\u001b[0mnp\u001b[0m\u001b[0;34m.\u001b[0m\u001b[0marange\u001b[0m\u001b[0;34m(\u001b[0m\u001b[0;36m0\u001b[0m\u001b[0;34m,\u001b[0m \u001b[0mn_iterations\u001b[0m\u001b[0;34m+\u001b[0m\u001b[0;36m1\u001b[0m\u001b[0;34m,\u001b[0m \u001b[0;36m10\u001b[0m\u001b[0;34m)\u001b[0m\u001b[0;34m,\u001b[0m \u001b[0mmean_evals\u001b[0m\u001b[0;34m,\u001b[0m \u001b[0;34m'ro'\u001b[0m\u001b[0;34m)\u001b[0m\u001b[0;34m\u001b[0m\u001b[0m\n\u001b[0m",
      "\u001b[0;31mNameError\u001b[0m: name 'n_iterations' is not defined"
     ]
    },
    {
     "data": {
      "image/png": "[encoded data removed]",
      "text/plain": [
       "<matplotlib.figure.Figure at 0x1110423c8>"
      ]
     },
     "metadata": {},
     "output_type": "display_data"
    }
   ],
   "source": [
    "fig, ax = plt.subplots(1)\n",
    "ax.plot(mean_losses)\n",
    "ax2 = plt.twinx()\n",
    "ax2.plot(np.arange(0, n_iterations+1, 10), mean_evals, 'ro')"
   ]
  },
  {
   "cell_type": "code",
   "execution_count": null,
   "metadata": {
    "collapsed": true
   },
   "outputs": [],
   "source": []
  }
 ],
 "metadata": {
  "kernelspec": {
   "display_name": "Python 3",
   "language": "python",
   "name": "python3"
  },
  "language_info": {
   "codemirror_mode": {
    "name": "ipython",
    "version": 3
   },
   "file_extension": ".py",
   "mimetype": "text/x-python",
   "name": "python",
   "nbconvert_exporter": "python",
   "pygments_lexer": "ipython3",
   "version": "3.5.1"
  }
 },
 "nbformat": 4,
 "nbformat_minor": 0
}
