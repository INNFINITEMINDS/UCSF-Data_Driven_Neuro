{
 "cells": [
  {
   "cell_type": "code",
   "execution_count": 1,
   "metadata": {
    "collapsed": true
   },
   "outputs": [],
   "source": [
    "import numpy as np\n",
    "import matplotlib.pyplot as plt\n",
    "%matplotlib inline"
   ]
  },
  {
   "cell_type": "code",
   "execution_count": 2,
   "metadata": {
    "collapsed": true
   },
   "outputs": [],
   "source": [
    "import tensorflow as tf\n",
    "import os.path as op"
   ]
  },
  {
   "cell_type": "code",
   "execution_count": 3,
   "metadata": {
    "collapsed": true
   },
   "outputs": [],
   "source": [
    "log_dir = './logs'\n",
    "if tf.gfile.Exists(log_dir):\n",
    "    tf.gfile.DeleteRecursively(log_dir)\n"
   ]
  },
  {
   "cell_type": "code",
   "execution_count": 4,
   "metadata": {
    "collapsed": true
   },
   "outputs": [],
   "source": [
    "def read_and_decode(filename):\n",
    "    filename_queue = tf.train.string_input_producer([filename],\n",
    "                                                    num_epochs=None)\n",
    "\n",
    "    reader = tf.TFRecordReader()\n",
    "    _, serialized_example = reader.read(filename_queue)\n",
    "    features = tf.parse_single_example(\n",
    "        serialized_example,\n",
    "        features={\n",
    "                'image/height': tf.FixedLenFeature([], tf.int64),\n",
    "                'image/width': tf.FixedLenFeature([], tf.int64),\n",
    "                'image/depth': tf.FixedLenFeature([], tf.int64),\n",
    "                'label': tf.FixedLenFeature([], tf.int64),\n",
    "                'image/raw': tf.VarLenFeature(tf.string)})\n",
    "\n",
    "    # Shape elements must be int32 tensors!\n",
    "    height = tf.cast(features['image/height'], tf.int32)\n",
    "    width = tf.cast(features['image/width'], tf.int32)\n",
    "    depth = tf.cast(features['image/depth'], tf.int32)\n",
    "    \n",
    "    # Decode the image from its raw representation:\n",
    "    image = tf.decode_raw(features['image/raw'].values, tf.uint8)\n",
    "\n",
    "    # Reshape it back to its original shape:\n",
    "    im_shape = tf.pack([height, width, depth])\n",
    "    image = tf.reshape(image, im_shape)\n",
    "    #tf.random_crop(image, [height, width, depth])\n",
    "    # Convert from [0, 255] -> [0, 1] floats.\n",
    "    image = tf.cast(image, tf.float32) * (1. / 255)\n",
    "\n",
    "    # Convert label from a scalar uint8 tensor to an int32 scalar.\n",
    "    label = tf.cast(features['label'], tf.int32)\n",
    "    return image, label"
   ]
  },
  {
   "cell_type": "code",
   "execution_count": 5,
   "metadata": {
    "collapsed": true
   },
   "outputs": [],
   "source": [
    "image, label = read_and_decode(\"../data/cells_train.tfrecords\")\n",
    "sess = tf.Session()\n",
    "init = tf.global_variables_initializer()\n",
    "sess.run(init)\n",
    "tf.train.start_queue_runners(sess=sess)\n",
    "im_1, lab_1 = sess.run([image, label])"
   ]
  },
  {
   "cell_type": "code",
   "execution_count": 6,
   "metadata": {
    "collapsed": false
   },
   "outputs": [],
   "source": [
    "image, label = read_and_decode(\"../data/cells_train.tfrecords\")\n",
    "\n",
    "with tf.name_scope('input'):\n",
    "    images_batch, labels_batch = tf.train.shuffle_batch(\n",
    "        [image, label], batch_size=40,\n",
    "        capacity=400,\n",
    "        shapes=(im_1.shape, lab_1.shape),\n",
    "        min_after_dequeue=200)"
   ]
  },
  {
   "cell_type": "code",
   "execution_count": 7,
   "metadata": {
    "collapsed": true
   },
   "outputs": [],
   "source": [
    "def weight_variable(shape, fan_in, fan_out):\n",
    "    \"\"\" \n",
    "    Initialize weights with the Xavier initialization\n",
    "    \"\"\"\n",
    "    low = -4*np.sqrt(6.0/(fan_in + fan_out)) \n",
    "    high = 4*np.sqrt(6.0/(fan_in + fan_out))\n",
    "    return tf.Variable(tf.random_uniform(shape, minval=low, maxval=high, dtype=tf.float32))\n",
    "\n",
    "def bias_variable(shape):\n",
    "    initial = tf.constant(0.1, shape=shape)\n",
    "    return tf.Variable(initial)"
   ]
  },
  {
   "cell_type": "code",
   "execution_count": 8,
   "metadata": {
    "collapsed": false
   },
   "outputs": [],
   "source": [
    "def variable_summaries(var):\n",
    "    \"\"\"Attach a lot of summaries to a Tensor (for TensorBoard visualization).\"\"\"\n",
    "    with tf.name_scope('summaries'):\n",
    "        mean = tf.reduce_mean(var)\n",
    "        tf.summary.scalar('mean', mean)\n",
    "        with tf.name_scope('stddev'):\n",
    "            stddev = tf.sqrt(tf.reduce_mean(tf.square(var - mean)))\n",
    "        tf.summary.scalar('stddev', stddev)\n",
    "        tf.summary.scalar('max', tf.reduce_max(var))\n",
    "        tf.summary.scalar('min', tf.reduce_min(var))\n",
    "        tf.summary.histogram('histogram', var)\n"
   ]
  },
  {
   "cell_type": "code",
   "execution_count": 9,
   "metadata": {
    "collapsed": true
   },
   "outputs": [],
   "source": [
    "def conv2d(x, W):\n",
    "    return tf.nn.conv2d(x, W, strides=[1, 1, 1, 1], padding='SAME')\n",
    "\n",
    "def max_pool_2x2(x):\n",
    "    return tf.nn.max_pool(x, ksize=[1, 2, 2, 1],\n",
    "                          strides=[1, 2, 2, 1], padding='SAME')"
   ]
  },
  {
   "cell_type": "code",
   "execution_count": 10,
   "metadata": {
    "collapsed": false
   },
   "outputs": [],
   "source": [
    "with tf.name_scope(\"First_convolutional_layer\"):\n",
    "    with tf.name_scope(\"Weights\"):\n",
    "        W_conv1 = weight_variable([5, 5, 3, 32], 256*256*3, 32)\n",
    "        variable_summaries(W_conv1)\n",
    "    with tf.name_scope(\"Bias\"):\n",
    "        b_conv1 = bias_variable([32])\n",
    "        variable_summaries(b_conv1)\n",
    "    with tf.name_scope('Preactivation'):\n",
    "        preact1 = conv2d(images_batch, W_conv1) + b_conv1\n",
    "        tf.summary.histogram('preactivation', preact1)\n",
    "\n",
    "    h_conv1 = tf.nn.relu(preact1)\n",
    "    tf.summary.histogram(\"convolution\", h_conv1)\n",
    "    with tf.name_scope(\"Pooling\"):\n",
    "        h_pool1 = max_pool_2x2(h_conv1)"
   ]
  },
  {
   "cell_type": "markdown",
   "metadata": {},
   "source": [
    "Second convolutional layer:"
   ]
  },
  {
   "cell_type": "code",
   "execution_count": 11,
   "metadata": {
    "collapsed": false
   },
   "outputs": [],
   "source": [
    "with tf.name_scope(\"Second_convolutional_layer\"):\n",
    "    with tf.name_scope(\"Weights\"):\n",
    "        W_conv2 = weight_variable([5, 5, 32, 64], 128*128*32, 64)\n",
    "        variable_summaries(W_conv2)\n",
    "    with tf.name_scope(\"Bias\"):\n",
    "        b_conv2 = bias_variable([64])\n",
    "        variable_summaries(b_conv2)\n",
    "    with tf.name_scope(\"Preactivation\"):\n",
    "        preact2 = conv2d(h_pool1, W_conv2) + b_conv2\n",
    "        tf.summary.histogram('preactivation', preact2)\n",
    "    h_conv2 = tf.nn.relu(preact2)\n",
    "    tf.summary.histogram(\"convolution\", h_conv2)\n",
    "    with tf.name_scope(\"Pooling\"):\n",
    "        h_pool2 = max_pool_2x2(h_conv2)"
   ]
  },
  {
   "cell_type": "code",
   "execution_count": 12,
   "metadata": {
    "collapsed": false
   },
   "outputs": [],
   "source": [
    "with tf.name_scope(\"Fully_connected_layer\"):\n",
    "    with tf.name_scope(\"Weights\"):\n",
    "        W_fc1 = weight_variable([64 * 64 * 64, 1024], 64*64*64, 1024)\n",
    "        variable_summaries(W_fc1)\n",
    "    with tf.name_scope(\"Bias\"):\n",
    "        b_fc1 = bias_variable([1024])\n",
    "        variable_summaries(b_fc1)\n",
    "        \n",
    "    h_pool2_flat = tf.reshape(h_pool2, [-1, 64 * 64 * 64])\n",
    "    with tf.name_scope(\"Preactivation\"):\n",
    "        preact3 = tf.matmul(h_pool2_flat, W_fc1) + b_fc1\n",
    "        variable_summaries(preact3)\n",
    "    \n",
    "    h_fc1 = tf.nn.relu(preact3)\n",
    "    tf.summary.histogram('Fully_connected_output', h_fc1)"
   ]
  },
  {
   "cell_type": "code",
   "execution_count": 13,
   "metadata": {
    "collapsed": true
   },
   "outputs": [],
   "source": [
    "with tf.name_scope(\"Dropout\"):\n",
    "    keep_prob = tf.placeholder(tf.float32)\n",
    "    tf.summary.scalar('Keep_Probability', keep_prob)\n",
    "    h_fc1_drop = tf.nn.dropout(h_fc1, keep_prob)"
   ]
  },
  {
   "cell_type": "code",
   "execution_count": 14,
   "metadata": {
    "collapsed": true
   },
   "outputs": [],
   "source": [
    "W_fc2 = weight_variable([1024, 3], 1024, 3)\n",
    "b_fc2 = bias_variable([3])\n",
    "y_conv = tf.matmul(h_fc1_drop, W_fc2) + b_fc2"
   ]
  },
  {
   "cell_type": "code",
   "execution_count": 15,
   "metadata": {
    "collapsed": false
   },
   "outputs": [],
   "source": [
    "with tf.name_scope(\"Loss\"):\n",
    "    loss = tf.nn.sparse_softmax_cross_entropy_with_logits(y_conv, labels_batch)\n",
    "    loss_mean = tf.reduce_mean(loss)\n",
    "    tf.summary.scalar('Mean_loss', loss_mean)\n",
    "with tf.name_scope(\"Train\"):\n",
    "    train_op = tf.train.AdamOptimizer(1e-5).minimize(loss_mean)"
   ]
  },
  {
   "cell_type": "code",
   "execution_count": 16,
   "metadata": {
    "collapsed": false
   },
   "outputs": [],
   "source": [
    "y_pred = tf.cast(tf.argmax(y_conv, 1), tf.int32)"
   ]
  },
  {
   "cell_type": "code",
   "execution_count": 17,
   "metadata": {
    "collapsed": false
   },
   "outputs": [],
   "source": [
    "with tf.name_scope(\"Accuracy\"):\n",
    "    with tf.name_scope(\"Correct_prediction\"):\n",
    "        correct_prediction = tf.equal(y_pred, labels_batch)\n",
    "    with tf.name_scope(\"Accuracy\"):\n",
    "        accuracy = tf.reduce_mean(tf.cast(correct_prediction, tf.float32))\n",
    "        tf.summary.scalar('Accuracy', accuracy)\n"
   ]
  },
  {
   "cell_type": "code",
   "execution_count": 18,
   "metadata": {
    "collapsed": false
   },
   "outputs": [],
   "source": [
    "sess = tf.Session()"
   ]
  },
  {
   "cell_type": "code",
   "execution_count": 19,
   "metadata": {
    "collapsed": false
   },
   "outputs": [],
   "source": [
    "merged = tf.summary.merge_all()\n",
    "log_dir = './logs'\n",
    "train_writer = tf.summary.FileWriter(op.join(log_dir, 'train'), sess.graph)\n",
    "test_writer = tf.summary.FileWriter(op.join(log_dir, 'test'))"
   ]
  },
  {
   "cell_type": "code",
   "execution_count": 20,
   "metadata": {
    "collapsed": false
   },
   "outputs": [
    {
     "data": {
      "text/plain": [
       "[<Thread(Thread-6, started daemon 123145603739648)>,\n",
       " <Thread(Thread-7, started daemon 123145608994816)>,\n",
       " <Thread(Thread-8, started daemon 123145614249984)>]"
      ]
     },
     "execution_count": 20,
     "metadata": {},
     "output_type": "execute_result"
    }
   ],
   "source": [
    "init = tf.global_variables_initializer()\n",
    "sess.run(init)\n",
    "tf.train.start_queue_runners(sess=sess)"
   ]
  },
  {
   "cell_type": "code",
   "execution_count": 21,
   "metadata": {
    "collapsed": false
   },
   "outputs": [
    {
     "name": "stdout",
     "output_type": "stream",
     "text": [
      "Accuracy at step 0: 0.425\n",
      "Accuracy at step 10: 0.375\n",
      "Accuracy at step 20: 0.45\n",
      "Accuracy at step 30: 0.35\n",
      "Accuracy at step 40: 0.375\n",
      "Accuracy at step 50: 0.35\n",
      "Accuracy at step 60: 0.325\n",
      "Accuracy at step 70: 0.3\n",
      "Accuracy at step 80: 0.45\n",
      "Accuracy at step 90: 0.7\n",
      "Adding run metadata for 99\n",
      "Accuracy at step 100: 0.25\n",
      "Accuracy at step 110: 0.3\n",
      "Accuracy at step 120: 0.45\n",
      "Accuracy at step 130: 0.4\n",
      "Accuracy at step 140: 0.4\n",
      "Accuracy at step 150: 0.675\n",
      "Accuracy at step 160: 0.35\n",
      "Accuracy at step 170: 0.425\n",
      "Accuracy at step 180: 0.7\n",
      "Accuracy at step 190: 0.5\n",
      "Adding run metadata for 199\n",
      "Accuracy at step 200: 0.5\n",
      "Accuracy at step 210: 0.3\n",
      "Accuracy at step 220: 0.525\n",
      "Accuracy at step 230: 0.525\n",
      "Accuracy at step 240: 0.65\n",
      "Accuracy at step 250: 0.625\n",
      "Accuracy at step 260: 0.6\n",
      "Accuracy at step 270: 0.6\n",
      "Accuracy at step 280: 0.425\n",
      "Accuracy at step 290: 0.4\n",
      "Adding run metadata for 299\n",
      "Accuracy at step 300: 0.525\n",
      "Accuracy at step 310: 0.375\n",
      "Accuracy at step 320: 0.6\n",
      "Accuracy at step 330: 0.575\n",
      "Accuracy at step 340: 0.425\n",
      "Accuracy at step 350: 0.5\n",
      "Accuracy at step 360: 0.625\n",
      "Accuracy at step 370: 0.6\n",
      "Accuracy at step 380: 0.35\n",
      "Accuracy at step 390: 0.35\n",
      "Adding run metadata for 399\n",
      "Accuracy at step 400: 0.675\n",
      "Accuracy at step 410: 0.7\n",
      "Accuracy at step 420: 0.425\n",
      "Accuracy at step 430: 0.35\n",
      "Accuracy at step 440: 0.575\n",
      "Accuracy at step 450: 0.7\n",
      "Accuracy at step 460: 0.675\n",
      "Accuracy at step 470: 0.5\n",
      "Accuracy at step 480: 0.625\n",
      "Accuracy at step 490: 0.625\n",
      "Adding run metadata for 499\n",
      "Accuracy at step 500: 0.675\n",
      "Accuracy at step 510: 0.5\n",
      "Accuracy at step 520: 0.7\n",
      "Accuracy at step 530: 0.55\n",
      "Accuracy at step 540: 0.7\n",
      "Accuracy at step 550: 0.725\n",
      "Accuracy at step 560: 0.475\n",
      "Accuracy at step 570: 0.4\n",
      "Accuracy at step 580: 0.5\n",
      "Accuracy at step 590: 0.6\n",
      "Adding run metadata for 599\n",
      "Accuracy at step 600: 0.625\n",
      "Accuracy at step 610: 0.575\n",
      "Accuracy at step 620: 0.6\n",
      "Accuracy at step 630: 0.75\n",
      "Accuracy at step 640: 0.525\n",
      "Accuracy at step 650: 0.625\n",
      "Accuracy at step 660: 0.525\n",
      "Accuracy at step 670: 0.625\n",
      "Accuracy at step 680: 0.55\n",
      "Accuracy at step 690: 0.625\n",
      "Adding run metadata for 699\n",
      "Accuracy at step 700: 0.625\n",
      "Accuracy at step 710: 0.725\n",
      "Accuracy at step 720: 0.6\n",
      "Accuracy at step 730: 0.55\n",
      "Accuracy at step 740: 0.8\n",
      "Accuracy at step 750: 0.525\n",
      "Accuracy at step 760: 0.7\n",
      "Accuracy at step 770: 0.75\n",
      "Accuracy at step 780: 0.65\n",
      "Accuracy at step 790: 0.75\n",
      "Adding run metadata for 799\n",
      "Accuracy at step 800: 0.7\n",
      "Accuracy at step 810: 0.8\n",
      "Accuracy at step 820: 0.625\n",
      "Accuracy at step 830: 0.725\n",
      "Accuracy at step 840: 0.7\n",
      "Accuracy at step 850: 0.675\n",
      "Accuracy at step 860: 0.6\n",
      "Accuracy at step 870: 0.625\n",
      "Accuracy at step 880: 0.6\n",
      "Accuracy at step 890: 0.75\n",
      "Adding run metadata for 899\n",
      "Accuracy at step 900: 0.825\n",
      "Accuracy at step 910: 0.675\n",
      "Accuracy at step 920: 0.725\n",
      "Accuracy at step 930: 0.75\n",
      "Accuracy at step 940: 0.6\n",
      "Accuracy at step 950: 0.625\n",
      "Accuracy at step 960: 0.775\n",
      "Accuracy at step 970: 0.8\n",
      "Accuracy at step 980: 0.675\n",
      "Accuracy at step 990: 0.7\n",
      "Adding run metadata for 999\n",
      "Accuracy at step 1000: 0.6\n",
      "Accuracy at step 1010: 0.675\n",
      "Accuracy at step 1020: 0.675\n",
      "Accuracy at step 1030: 0.7\n",
      "Accuracy at step 1040: 0.65\n",
      "Accuracy at step 1050: 0.7\n",
      "Accuracy at step 1060: 0.65\n",
      "Accuracy at step 1070: 0.825\n",
      "Accuracy at step 1080: 0.775\n",
      "Accuracy at step 1090: 0.625\n",
      "Adding run metadata for 1099\n",
      "Accuracy at step 1100: 0.7\n",
      "Accuracy at step 1110: 0.65\n",
      "Accuracy at step 1120: 0.725\n",
      "Accuracy at step 1130: 0.675\n",
      "Accuracy at step 1140: 0.8\n",
      "Accuracy at step 1150: 0.625\n",
      "Accuracy at step 1160: 0.75\n",
      "Accuracy at step 1170: 0.775\n",
      "Accuracy at step 1180: 0.725\n",
      "Accuracy at step 1190: 0.625\n",
      "Adding run metadata for 1199\n",
      "Accuracy at step 1200: 0.725\n",
      "Accuracy at step 1210: 0.825\n",
      "Accuracy at step 1220: 0.725\n",
      "Accuracy at step 1230: 0.8\n",
      "Accuracy at step 1240: 0.725\n",
      "Accuracy at step 1250: 0.8\n",
      "Accuracy at step 1260: 0.75\n",
      "Accuracy at step 1270: 0.8\n",
      "Accuracy at step 1280: 0.75\n",
      "Accuracy at step 1290: 0.85\n",
      "Adding run metadata for 1299\n",
      "Accuracy at step 1300: 0.75\n",
      "Accuracy at step 1310: 0.65\n",
      "Accuracy at step 1320: 0.85\n",
      "Accuracy at step 1330: 0.55\n",
      "Accuracy at step 1340: 0.65\n",
      "Accuracy at step 1350: 0.675\n",
      "Accuracy at step 1360: 0.75\n",
      "Accuracy at step 1370: 0.725\n",
      "Accuracy at step 1380: 0.725\n",
      "Accuracy at step 1390: 0.7\n",
      "Adding run metadata for 1399\n",
      "Accuracy at step 1400: 0.575\n",
      "Accuracy at step 1410: 0.725\n",
      "Accuracy at step 1420: 0.85\n",
      "Accuracy at step 1430: 0.625\n",
      "Accuracy at step 1440: 0.8\n",
      "Accuracy at step 1450: 0.65\n",
      "Accuracy at step 1460: 0.725\n",
      "Accuracy at step 1470: 0.625\n",
      "Accuracy at step 1480: 0.7\n",
      "Accuracy at step 1490: 0.625\n",
      "Adding run metadata for 1499\n",
      "Accuracy at step 1500: 0.7\n",
      "Accuracy at step 1510: 0.7\n",
      "Accuracy at step 1520: 0.775\n",
      "Accuracy at step 1530: 0.675\n",
      "Accuracy at step 1540: 0.8\n",
      "Accuracy at step 1550: 0.65\n",
      "Accuracy at step 1560: 0.7\n",
      "Accuracy at step 1570: 0.725\n",
      "Accuracy at step 1580: 0.675\n",
      "Accuracy at step 1590: 0.6\n",
      "Adding run metadata for 1599\n",
      "Accuracy at step 1600: 0.6\n",
      "Accuracy at step 1610: 0.6\n",
      "Accuracy at step 1620: 0.75\n",
      "Accuracy at step 1630: 0.75\n",
      "Accuracy at step 1640: 0.7\n",
      "Accuracy at step 1650: 0.75\n",
      "Accuracy at step 1660: 0.8\n",
      "Accuracy at step 1670: 0.65\n",
      "Accuracy at step 1680: 0.725\n",
      "Accuracy at step 1690: 0.7\n",
      "Adding run metadata for 1699\n",
      "Accuracy at step 1700: 0.725\n",
      "Accuracy at step 1710: 0.725\n",
      "Accuracy at step 1720: 0.625\n",
      "Accuracy at step 1730: 0.725\n",
      "Accuracy at step 1740: 0.625\n",
      "Accuracy at step 1750: 0.75\n",
      "Accuracy at step 1760: 0.85\n",
      "Accuracy at step 1770: 0.75\n",
      "Accuracy at step 1780: 0.725\n",
      "Accuracy at step 1790: 0.7\n",
      "Adding run metadata for 1799\n",
      "Accuracy at step 1800: 0.7\n",
      "Accuracy at step 1810: 0.8\n",
      "Accuracy at step 1820: 0.6\n",
      "Accuracy at step 1830: 0.875\n",
      "Accuracy at step 1840: 0.625\n",
      "Accuracy at step 1850: 0.65\n",
      "Accuracy at step 1860: 0.675\n",
      "Accuracy at step 1870: 0.725\n",
      "Accuracy at step 1880: 0.675\n",
      "Accuracy at step 1890: 0.75\n",
      "Adding run metadata for 1899\n",
      "Accuracy at step 1900: 0.7\n",
      "Accuracy at step 1910: 0.8\n",
      "Accuracy at step 1920: 0.875\n",
      "Accuracy at step 1930: 0.7\n",
      "Accuracy at step 1940: 0.85\n",
      "Accuracy at step 1950: 0.825\n",
      "Accuracy at step 1960: 0.825\n",
      "Accuracy at step 1970: 0.65\n",
      "Accuracy at step 1980: 0.65\n",
      "Accuracy at step 1990: 0.775\n",
      "Adding run metadata for 1999\n"
     ]
    }
   ],
   "source": [
    "max_steps = 2000\n",
    "for i in range(max_steps):\n",
    "    if i % 10 == 0:  # Record summaries and test-set accuracy\n",
    "        summary, acc = sess.run([merged, accuracy], feed_dict={keep_prob: 1.0})\n",
    "        test_writer.add_summary(summary, i)\n",
    "        print('Accuracy at step %s: %s' % (i, acc))\n",
    "    else:  # Record train set summaries, and train\n",
    "        if i % 100 == 99:  # Record execution stats\n",
    "            run_options = tf.RunOptions(trace_level=tf.RunOptions.FULL_TRACE)\n",
    "            run_metadata = tf.RunMetadata()\n",
    "            summary, _ = sess.run([merged, train_op],\n",
    "                                  feed_dict={keep_prob: 0.5},\n",
    "                                  options=run_options,\n",
    "                                  run_metadata=run_metadata)\n",
    "            train_writer.add_run_metadata(run_metadata, 'step%03d' % i)\n",
    "            train_writer.add_summary(summary, i)\n",
    "            print('Adding run metadata for', i)\n",
    "        else:  # Record a summary\n",
    "            summary, _ = sess.run([merged, train_op], feed_dict={keep_prob: 0.5})\n",
    "            train_writer.add_summary(summary, i)\n",
    "train_writer.close()\n",
    "test_writer.close()\n"
   ]
  },
  {
   "cell_type": "code",
   "execution_count": null,
   "metadata": {
    "collapsed": true
   },
   "outputs": [],
   "source": []
  }
 ],
 "metadata": {
  "kernelspec": {
   "display_name": "Python 3",
   "language": "python",
   "name": "python3"
  },
  "language_info": {
   "codemirror_mode": {
    "name": "ipython",
    "version": 3
   },
   "file_extension": ".py",
   "mimetype": "text/x-python",
   "name": "python",
   "nbconvert_exporter": "python",
   "pygments_lexer": "ipython3",
   "version": "3.5.1"
  }
 },
 "nbformat": 4,
 "nbformat_minor": 0
}
