{
 "cells": [
  {
   "cell_type": "code",
   "execution_count": 1,
   "metadata": {
    "collapsed": true
   },
   "outputs": [],
   "source": [
    "import numpy as np\n",
    "import matplotlib.pyplot as plt\n",
    "%matplotlib inline"
   ]
  },
  {
   "cell_type": "code",
   "execution_count": 2,
   "metadata": {
    "collapsed": true
   },
   "outputs": [],
   "source": [
    "import tensorflow as tf\n",
    "import os.path as op"
   ]
  },
  {
   "cell_type": "code",
   "execution_count": 3,
   "metadata": {
    "collapsed": true
   },
   "outputs": [],
   "source": [
    "log_dir = './logs'\n",
    "if tf.gfile.Exists(log_dir):\n",
    "    tf.gfile.DeleteRecursively(log_dir)\n",
    "\n",
    "checkpoint_dir = './checkpoints'"
   ]
  },
  {
   "cell_type": "code",
   "execution_count": 4,
   "metadata": {
    "collapsed": true
   },
   "outputs": [],
   "source": [
    "def read_and_decode(filename):\n",
    "    filename_queue = tf.train.string_input_producer([filename],\n",
    "                                                    num_epochs=None)\n",
    "\n",
    "    reader = tf.TFRecordReader()\n",
    "    _, serialized_example = reader.read(filename_queue)\n",
    "    features = tf.parse_single_example(\n",
    "        serialized_example,\n",
    "        features={\n",
    "                'image/height': tf.FixedLenFeature([], tf.int64),\n",
    "                'image/width': tf.FixedLenFeature([], tf.int64),\n",
    "                'image/depth': tf.FixedLenFeature([], tf.int64),\n",
    "                'label': tf.FixedLenFeature([], tf.int64),\n",
    "                'image/raw': tf.VarLenFeature(tf.string)})\n",
    "\n",
    "    # Shape elements must be int32 tensors!\n",
    "    height = tf.cast(features['image/height'], tf.int32)\n",
    "    width = tf.cast(features['image/width'], tf.int32)\n",
    "    depth = tf.cast(features['image/depth'], tf.int32)\n",
    "    \n",
    "    # Decode the image from its raw representation:\n",
    "    image = tf.decode_raw(features['image/raw'].values, tf.uint8)\n",
    "\n",
    "    # Reshape it back to its original shape:\n",
    "    im_shape = tf.pack([height, width, depth])\n",
    "    image = tf.reshape(image, im_shape)\n",
    "    #tf.random_crop(image, [height, width, depth])\n",
    "    # Convert from [0, 255] -> [0, 1] floats.\n",
    "    image = tf.cast(image, tf.float32) * (1. / 255)\n",
    "\n",
    "    # Convert label from a scalar uint8 tensor to an int32 scalar.\n",
    "    label = tf.cast(features['label'], tf.int32)\n",
    "    return image, label"
   ]
  },
  {
   "cell_type": "code",
   "execution_count": 5,
   "metadata": {
    "collapsed": true
   },
   "outputs": [],
   "source": [
    "image, label = read_and_decode(op.expanduser(op.join('~', 'data_ucsf', \"cells_train.tfrecords\")))\n",
    "sess = tf.Session()\n",
    "init = tf.global_variables_initializer()\n",
    "sess.run(init)\n",
    "tf.train.start_queue_runners(sess=sess)\n",
    "im_1, lab_1 = sess.run([image, label])"
   ]
  },
  {
   "cell_type": "code",
   "execution_count": 6,
   "metadata": {
    "collapsed": false
   },
   "outputs": [],
   "source": [
    "image, label = read_and_decode(op.expanduser(op.join('~', 'data_ucsf', \"cells_train.tfrecords\")))\n",
    "\n",
    "with tf.name_scope('input'):\n",
    "    images_batch, labels_batch = tf.train.shuffle_batch(\n",
    "        [image, label], batch_size=40,\n",
    "        capacity=400,\n",
    "        shapes=(im_1.shape, lab_1.shape),\n",
    "        min_after_dequeue=200)"
   ]
  },
  {
   "cell_type": "code",
   "execution_count": 7,
   "metadata": {
    "collapsed": true
   },
   "outputs": [],
   "source": [
    "def weight_variable(name, shape):\n",
    "    \"\"\" \n",
    "    Initialize weights with the Xavier initialization\n",
    "    \"\"\"\n",
    "    return tf.get_variable(name, shape=shape, initializer=tf.contrib.layers.xavier_initializer())\n",
    "\n",
    "def bias_variable(shape):\n",
    "    initial = tf.constant(0.1, shape=shape)\n",
    "    return tf.Variable(initial)"
   ]
  },
  {
   "cell_type": "code",
   "execution_count": 8,
   "metadata": {
    "collapsed": false
   },
   "outputs": [],
   "source": [
    "def variable_summaries(var):\n",
    "    \"\"\"Attach a lot of summaries to a Tensor (for TensorBoard visualization).\"\"\"\n",
    "    with tf.name_scope('summaries'):\n",
    "        mean = tf.reduce_mean(var)\n",
    "        tf.summary.scalar('mean', mean)\n",
    "        with tf.name_scope('stddev'):\n",
    "            stddev = tf.sqrt(tf.reduce_mean(tf.square(var - mean)))\n",
    "        tf.summary.scalar('stddev', stddev)\n",
    "        tf.summary.scalar('max', tf.reduce_max(var))\n",
    "        tf.summary.scalar('min', tf.reduce_min(var))\n",
    "        tf.summary.histogram('histogram', var)\n"
   ]
  },
  {
   "cell_type": "code",
   "execution_count": 9,
   "metadata": {
    "collapsed": true
   },
   "outputs": [],
   "source": [
    "def conv2d(x, W):\n",
    "    return tf.nn.conv2d(x, W, strides=[1, 1, 1, 1], padding='SAME')\n",
    "\n",
    "def max_pool_2x2(x):\n",
    "    return tf.nn.max_pool(x, ksize=[1, 2, 2, 1],\n",
    "                          strides=[1, 2, 2, 1], padding='SAME')"
   ]
  },
  {
   "cell_type": "code",
   "execution_count": 10,
   "metadata": {
    "collapsed": false
   },
   "outputs": [],
   "source": [
    "with tf.name_scope(\"First_convolutional_layer\"):\n",
    "    with tf.name_scope(\"Weights\"):\n",
    "        W_conv1 = weight_variable(\"W_conv1\", [5, 5, 3, 32])\n",
    "        variable_summaries(W_conv1)\n",
    "    with tf.name_scope(\"Bias\"):\n",
    "        b_conv1 = bias_variable([32])\n",
    "        variable_summaries(b_conv1)\n",
    "    with tf.name_scope('Preactivation'):\n",
    "        preact1 = conv2d(images_batch, W_conv1) + b_conv1\n",
    "        tf.summary.histogram('preactivation', preact1)\n",
    "\n",
    "    h_conv1 = tf.nn.relu(preact1)\n",
    "    tf.summary.histogram(\"convolution\", h_conv1)\n",
    "    with tf.name_scope(\"Pooling\"):\n",
    "        h_pool1 = max_pool_2x2(h_conv1)"
   ]
  },
  {
   "cell_type": "markdown",
   "metadata": {},
   "source": [
    "Second convolutional layer:"
   ]
  },
  {
   "cell_type": "code",
   "execution_count": 11,
   "metadata": {
    "collapsed": false
   },
   "outputs": [],
   "source": [
    "with tf.name_scope(\"Second_convolutional_layer\"):\n",
    "    with tf.name_scope(\"Weights\"):\n",
    "        W_conv2 = weight_variable(\"W_conv2\", [5, 5, 32, 64])\n",
    "        variable_summaries(W_conv2)\n",
    "    with tf.name_scope(\"Bias\"):\n",
    "        b_conv2 = bias_variable([64])\n",
    "        variable_summaries(b_conv2)\n",
    "    with tf.name_scope(\"Preactivation\"):\n",
    "        preact2 = conv2d(h_pool1, W_conv2) + b_conv2\n",
    "        tf.summary.histogram('preactivation', preact2)\n",
    "    h_conv2 = tf.nn.relu(preact2)\n",
    "    tf.summary.histogram(\"convolution\", h_conv2)\n",
    "    with tf.name_scope(\"Pooling\"):\n",
    "        h_pool2 = max_pool_2x2(h_conv2)"
   ]
  },
  {
   "cell_type": "code",
   "execution_count": 12,
   "metadata": {
    "collapsed": false
   },
   "outputs": [],
   "source": [
    "with tf.name_scope(\"Fully_connected_layer\"):\n",
    "    with tf.name_scope(\"Weights\"):\n",
    "        W_fc1 = weight_variable(\"W_fc1\", [64 * 64 * 64, 1024])\n",
    "        variable_summaries(W_fc1)\n",
    "    with tf.name_scope(\"Bias\"):\n",
    "        b_fc1 = bias_variable([1024])\n",
    "        variable_summaries(b_fc1)\n",
    "        \n",
    "    h_pool2_flat = tf.reshape(h_pool2, [-1, 64 * 64 * 64])\n",
    "    with tf.name_scope(\"Preactivation\"):\n",
    "        preact3 = tf.matmul(h_pool2_flat, W_fc1) + b_fc1\n",
    "        variable_summaries(preact3)\n",
    "    \n",
    "    h_fc1 = tf.nn.relu(preact3)\n",
    "    tf.summary.histogram('Fully_connected_output', h_fc1)"
   ]
  },
  {
   "cell_type": "code",
   "execution_count": 13,
   "metadata": {
    "collapsed": true
   },
   "outputs": [],
   "source": [
    "with tf.name_scope(\"Dropout\"):\n",
    "    keep_prob = tf.placeholder(tf.float32)\n",
    "    tf.summary.scalar('Keep_Probability', keep_prob)\n",
    "    h_fc1_drop = tf.nn.dropout(h_fc1, keep_prob)"
   ]
  },
  {
   "cell_type": "code",
   "execution_count": 14,
   "metadata": {
    "collapsed": true
   },
   "outputs": [],
   "source": [
    "with tf.name_scope(\"Readout\"):\n",
    "    with tf.name_scope(\"Weights\"):\n",
    "        W_fc2 = weight_variable(\"W_fc2\", [1024, 3])\n",
    "        variable_summaries(W_fc2)\n",
    "    with tf.name_scope(\"Bias\"):\n",
    "        b_fc2 = bias_variable([3])\n",
    "        variable_summaries(b_fc2)\n",
    "    with tf.name_scope(\"Activation\"):\n",
    "        y_conv = tf.matmul(h_fc1_drop, W_fc2) + b_fc2\n",
    "        variable_summaries(y_conv)"
   ]
  },
  {
   "cell_type": "code",
   "execution_count": 15,
   "metadata": {
    "collapsed": false
   },
   "outputs": [],
   "source": [
    "with tf.name_scope(\"Loss\"):\n",
    "    loss = tf.nn.sparse_softmax_cross_entropy_with_logits(y_conv, labels_batch)\n",
    "    loss_mean = tf.reduce_mean(loss)\n",
    "    tf.summary.scalar('Mean_loss', loss_mean)\n",
    "with tf.name_scope(\"Train\"):\n",
    "    train_op = tf.train.AdamOptimizer(1e-5).minimize(loss_mean)"
   ]
  },
  {
   "cell_type": "code",
   "execution_count": 16,
   "metadata": {
    "collapsed": false
   },
   "outputs": [],
   "source": [
    "y_pred = tf.cast(tf.argmax(y_conv, 1), tf.int32)"
   ]
  },
  {
   "cell_type": "code",
   "execution_count": 17,
   "metadata": {
    "collapsed": false
   },
   "outputs": [],
   "source": [
    "with tf.name_scope(\"Accuracy\"):\n",
    "    with tf.name_scope(\"Correct_prediction\"):\n",
    "        correct_prediction = tf.equal(y_pred, labels_batch)\n",
    "    with tf.name_scope(\"Accuracy\"):\n",
    "        accuracy = tf.reduce_mean(tf.cast(correct_prediction, tf.float32))\n",
    "        tf.summary.scalar('Accuracy', accuracy)\n"
   ]
  },
  {
   "cell_type": "code",
   "execution_count": 18,
   "metadata": {
    "collapsed": true
   },
   "outputs": [],
   "source": [
    "with tf.name_scope(\"Evaluation\"):\n",
    "\n",
    "    # These variables are used for evaluation (helping to decide when to stop training):\n",
    "    image_eval, label_eval = read_and_decode(op.expanduser(op.join('~', 'data_ucsf', \"cells_eval.tfrecords\")))\n",
    "\n",
    "    # We use a different batch of 40 every time: \n",
    "    images_eval_batch, labels_eval_batch = tf.train.batch(\n",
    "                [image_eval, label_eval], batch_size=40,\n",
    "                shapes=(im_1.shape, lab_1.shape))\n",
    "\n",
    "    # Reproducing the entire network on eval data:\n",
    "    h_conv1_eval = tf.nn.relu(conv2d(images_eval_batch, W_conv1) + b_conv1)\n",
    "    h_pool1_eval = max_pool_2x2(h_conv1_eval)\n",
    "\n",
    "    h_conv2_eval = tf.nn.relu(conv2d(h_pool1_eval, W_conv2) + b_conv2)\n",
    "    h_pool2_eval = max_pool_2x2(h_conv2_eval)\n",
    "\n",
    "    h_pool2_flat_eval = tf.reshape(h_pool2_eval, [-1, 64 * 64 * 64])\n",
    "    h_fc1_eval = tf.nn.relu(tf.matmul(h_pool2_flat_eval, W_fc1) + b_fc1)\n",
    "\n",
    "    y_pred_eval = tf.matmul(h_fc1_eval, W_fc2) + b_fc2\n",
    "\n",
    "    correct_prediction_eval = tf.reduce_mean(\n",
    "        tf.cast(\n",
    "            tf.equal(\n",
    "                tf.cast(\n",
    "                    tf.argmax(y_pred_eval, 1), tf.int32), labels_eval_batch), \n",
    "                tf.float32))\n",
    "\n",
    "    tf.summary.scalar('correct_prediction_eval', correct_prediction_eval)"
   ]
  },
  {
   "cell_type": "code",
   "execution_count": 19,
   "metadata": {
    "collapsed": true
   },
   "outputs": [],
   "source": [
    "# These will be used for a final test:\n",
    "image_test, label_test = read_and_decode(op.expanduser(op.join('~', 'data_ucsf', \"cells_test.tfrecords\")))\n",
    "\n",
    "# Use the whole thing  \n",
    "images_test_batch, labels_test_batch = tf.train.batch(\n",
    "            [image_test, label_test], batch_size=40,\n",
    "            shapes=(im_1.shape, lab_1.shape))\n",
    "\n",
    "# Reproducing the entire network on eval data:\n",
    "h_conv1_test = tf.nn.relu(conv2d(images_test_batch, W_conv1) + b_conv1)\n",
    "h_pool1_test = max_pool_2x2(h_conv1_test)\n",
    "\n",
    "h_conv2_test = tf.nn.relu(conv2d(h_pool1_test, W_conv2) + b_conv2)\n",
    "h_pool2_test = max_pool_2x2(h_conv2_test)\n",
    "\n",
    "h_pool2_flat_test = tf.reshape(h_pool2_test, [-1, 64 * 64 * 64])\n",
    "h_fc1_test = tf.nn.relu(tf.matmul(h_pool2_flat_test, W_fc1) + b_fc1)\n",
    "\n",
    "y_pred_test = tf.matmul(h_fc1_test, W_fc2) + b_fc2\n",
    "\n",
    "correct_prediction_test = tf.reduce_mean(\n",
    "    tf.cast(\n",
    "        tf.equal(\n",
    "            tf.cast(\n",
    "                tf.argmax(y_pred_test, 1), tf.int32), labels_test_batch), \n",
    "            tf.float32))"
   ]
  },
  {
   "cell_type": "code",
   "execution_count": 20,
   "metadata": {
    "collapsed": false
   },
   "outputs": [],
   "source": [
    "sess = tf.Session()"
   ]
  },
  {
   "cell_type": "code",
   "execution_count": 21,
   "metadata": {
    "collapsed": false
   },
   "outputs": [],
   "source": [
    "merged = tf.summary.merge_all()\n",
    "log_dir = './logs'\n",
    "train_writer = tf.summary.FileWriter(op.join(log_dir, 'train'), sess.graph)\n",
    "eval_writer = tf.summary.FileWriter(op.join(log_dir, 'evaluation'))"
   ]
  },
  {
   "cell_type": "code",
   "execution_count": null,
   "metadata": {
    "collapsed": false
   },
   "outputs": [
    {
     "data": {
      "text/plain": [
       "[<Thread(Thread-7, started daemon 140512962840320)>,\n",
       " <Thread(Thread-8, started daemon 140512954447616)>,\n",
       " <Thread(Thread-9, started daemon 140511667021568)>,\n",
       " <Thread(Thread-10, started daemon 140511658628864)>,\n",
       " <Thread(Thread-11, started daemon 140511650236160)>,\n",
       " <Thread(Thread-12, started daemon 140511641843456)>,\n",
       " <Thread(Thread-13, started daemon 140511633450752)>]"
      ]
     },
     "execution_count": 22,
     "metadata": {},
     "output_type": "execute_result"
    }
   ],
   "source": [
    "init = tf.global_variables_initializer()\n",
    "sess.run(init)\n",
    "tf.train.start_queue_runners(sess=sess)"
   ]
  },
  {
   "cell_type": "code",
   "execution_count": null,
   "metadata": {
    "collapsed": false,
    "scrolled": false
   },
   "outputs": [
    {
     "name": "stdout",
     "output_type": "stream",
     "text": [
      "At step 0, mean evaluated accuracy is: 0.30\n"
     ]
    }
   ],
   "source": [
    "n_iterations = 0\n",
    "mean_losses = []\n",
    "mean_evals = []\n",
    "max_iterations = 5000\n",
    "\n",
    "while True:    \n",
    "    _, loss_mean_val, summary = sess.run([train_op, loss_mean, merged], feed_dict={keep_prob: 0.5})\n",
    "    mean_losses.append(loss_mean_val)\n",
    "    # Write summary into the training writer\n",
    "    train_writer.add_summary(summary, n_iterations)\n",
    "    # Every 10 learning iterations, we consider whether to stop:\n",
    "    if np.mod(n_iterations, 10) == 0:\n",
    "        p, summary = sess.run([correct_prediction_eval, merged], feed_dict={keep_prob: 1.0})\n",
    "        mean_evals.append(p)\n",
    "        print(\"At step %s, mean evaluated accuracy is: %2.2f\"%(n_iterations, mean_evals[-1]))\n",
    "        # We've taken out the breaking criterion!\n",
    "        eval_writer.add_summary(summary, n_iterations)\n",
    "\n",
    "    n_iterations = n_iterations + 1  \n",
    "\n",
    "    # If you kept going for very long, break anyway:\n",
    "    if n_iterations > max_iterations:\n",
    "        break\n",
    "\n",
    "train_writer.close()\n",
    "eval_writer.close()"
   ]
  },
  {
   "cell_type": "code",
   "execution_count": null,
   "metadata": {
    "collapsed": true
   },
   "outputs": [],
   "source": [
    "p = sess.run(correct_prediction_test)"
   ]
  },
  {
   "cell_type": "code",
   "execution_count": null,
   "metadata": {
    "collapsed": false
   },
   "outputs": [],
   "source": [
    "print(p)"
   ]
  },
  {
   "cell_type": "code",
   "execution_count": null,
   "metadata": {
    "collapsed": false
   },
   "outputs": [],
   "source": [
    "# saver = tf.train.Saver()\n",
    "# saver.save(sess, op.join(checkpoint_dir, \"model.ckpt\"), i)"
   ]
  },
  {
   "cell_type": "code",
   "execution_count": null,
   "metadata": {
    "collapsed": false
   },
   "outputs": [],
   "source": [
    "from tensorflow.contrib.tensorboard.plugins import projector\n",
    "summary_writer = tf.summary.FileWriter(log_dir)\n",
    "\n",
    "# Format: tensorflow/contrib/tensorboard/plugins/projector/projector_config.proto\n",
    "config = projector.ProjectorConfig()\n",
    "\n",
    "# You can add multiple embeddings. Here we add only one.\n",
    "embedding = config.embeddings.add()\n",
    "embedding.tensor_name = \"W_conv1\"\n",
    "# Link this tensor to its metadata file (e.g. labels).\n",
    "#embedding.metadata_path = op.join(log_dir, 'metadata.tsv')\n",
    "\n",
    "# Saves a configuration file that TensorBoard will read during startup.\n",
    "projector.visualize_embeddings(summary_writer, config)"
   ]
  },
  {
   "cell_type": "code",
   "execution_count": null,
   "metadata": {
    "collapsed": true
   },
   "outputs": [],
   "source": []
  }
 ],
 "metadata": {
  "kernelspec": {
   "display_name": "Python 3",
   "language": "python",
   "name": "python3"
  },
  "language_info": {
   "codemirror_mode": {
    "name": "ipython",
    "version": 3
   },
   "file_extension": ".py",
   "mimetype": "text/x-python",
   "name": "python",
   "nbconvert_exporter": "python",
   "pygments_lexer": "ipython3",
   "version": "3.5.2"
  }
 },
 "nbformat": 4,
 "nbformat_minor": 0
}
