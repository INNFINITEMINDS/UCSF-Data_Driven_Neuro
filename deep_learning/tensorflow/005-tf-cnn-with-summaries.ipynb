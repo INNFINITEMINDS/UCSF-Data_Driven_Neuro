{
 "cells": [
  {
   "cell_type": "code",
   "execution_count": 1,
   "metadata": {
    "collapsed": true
   },
   "outputs": [],
   "source": [
    "import numpy as np\n",
    "import matplotlib.pyplot as plt\n",
    "%matplotlib inline"
   ]
  },
  {
   "cell_type": "code",
   "execution_count": 2,
   "metadata": {
    "collapsed": true
   },
   "outputs": [],
   "source": [
    "import tensorflow as tf\n",
    "import os.path as op"
   ]
  },
  {
   "cell_type": "code",
   "execution_count": 3,
   "metadata": {
    "collapsed": true
   },
   "outputs": [],
   "source": [
    "log_dir = './logs'\n",
    "if tf.gfile.Exists(log_dir):\n",
    "    tf.gfile.DeleteRecursively(log_dir)\n",
    "\n",
    "checkpoint_dir = './checkpoints'"
   ]
  },
  {
   "cell_type": "code",
   "execution_count": 4,
   "metadata": {
    "collapsed": true
   },
   "outputs": [],
   "source": [
    "def read_and_decode(filename):\n",
    "    filename_queue = tf.train.string_input_producer([filename],\n",
    "                                                    num_epochs=None)\n",
    "\n",
    "    reader = tf.TFRecordReader()\n",
    "    _, serialized_example = reader.read(filename_queue)\n",
    "    features = tf.parse_single_example(\n",
    "        serialized_example,\n",
    "        features={\n",
    "                'image/height': tf.FixedLenFeature([], tf.int64),\n",
    "                'image/width': tf.FixedLenFeature([], tf.int64),\n",
    "                'image/depth': tf.FixedLenFeature([], tf.int64),\n",
    "                'label': tf.FixedLenFeature([], tf.int64),\n",
    "                'image/raw': tf.VarLenFeature(tf.string)})\n",
    "\n",
    "    # Shape elements must be int32 tensors!\n",
    "    height = tf.cast(features['image/height'], tf.int32)\n",
    "    width = tf.cast(features['image/width'], tf.int32)\n",
    "    depth = tf.cast(features['image/depth'], tf.int32)\n",
    "    \n",
    "    # Decode the image from its raw representation:\n",
    "    image = tf.decode_raw(features['image/raw'].values, tf.uint8)\n",
    "\n",
    "    # Reshape it back to its original shape:\n",
    "    im_shape = tf.pack([height, width, depth])\n",
    "    image = tf.reshape(image, im_shape)\n",
    "    #tf.random_crop(image, [height, width, depth])\n",
    "    # Convert from [0, 255] -> [0, 1] floats.\n",
    "    image = tf.cast(image, tf.float32) * (1. / 255)\n",
    "\n",
    "    # Convert label from a scalar uint8 tensor to an int32 scalar.\n",
    "    label = tf.cast(features['label'], tf.int32)\n",
    "    return image, label"
   ]
  },
  {
   "cell_type": "code",
   "execution_count": 5,
   "metadata": {
    "collapsed": true
   },
   "outputs": [],
   "source": [
    "image, label = read_and_decode(\"../data/cells_train.tfrecords\")\n",
    "sess = tf.Session()\n",
    "init = tf.global_variables_initializer()\n",
    "sess.run(init)\n",
    "tf.train.start_queue_runners(sess=sess)\n",
    "im_1, lab_1 = sess.run([image, label])"
   ]
  },
  {
   "cell_type": "code",
   "execution_count": 6,
   "metadata": {
    "collapsed": false
   },
   "outputs": [],
   "source": [
    "image, label = read_and_decode(\"../data/cells_train.tfrecords\")\n",
    "\n",
    "with tf.name_scope('input'):\n",
    "    images_batch, labels_batch = tf.train.shuffle_batch(\n",
    "        [image, label], batch_size=40,\n",
    "        capacity=400,\n",
    "        shapes=(im_1.shape, lab_1.shape),\n",
    "        min_after_dequeue=200)"
   ]
  },
  {
   "cell_type": "code",
   "execution_count": 7,
   "metadata": {
    "collapsed": true
   },
   "outputs": [],
   "source": [
    "def weight_variable(name, shape):\n",
    "    \"\"\" \n",
    "    Initialize weights with the Xavier initialization\n",
    "    \"\"\"\n",
    "    return tf.get_variable(name, shape=shape, initializer=tf.contrib.layers.xavier_initializer())\n",
    "\n",
    "def bias_variable(shape):\n",
    "    initial = tf.constant(0.1, shape=shape)\n",
    "    return tf.Variable(initial)"
   ]
  },
  {
   "cell_type": "code",
   "execution_count": 8,
   "metadata": {
    "collapsed": false
   },
   "outputs": [],
   "source": [
    "def variable_summaries(var):\n",
    "    \"\"\"Attach a lot of summaries to a Tensor (for TensorBoard visualization).\"\"\"\n",
    "    with tf.name_scope('summaries'):\n",
    "        mean = tf.reduce_mean(var)\n",
    "        tf.summary.scalar('mean', mean)\n",
    "        with tf.name_scope('stddev'):\n",
    "            stddev = tf.sqrt(tf.reduce_mean(tf.square(var - mean)))\n",
    "        tf.summary.scalar('stddev', stddev)\n",
    "        tf.summary.scalar('max', tf.reduce_max(var))\n",
    "        tf.summary.scalar('min', tf.reduce_min(var))\n",
    "        tf.summary.histogram('histogram', var)\n"
   ]
  },
  {
   "cell_type": "code",
   "execution_count": 9,
   "metadata": {
    "collapsed": true
   },
   "outputs": [],
   "source": [
    "def conv2d(x, W):\n",
    "    return tf.nn.conv2d(x, W, strides=[1, 1, 1, 1], padding='SAME')\n",
    "\n",
    "def max_pool_2x2(x):\n",
    "    return tf.nn.max_pool(x, ksize=[1, 2, 2, 1],\n",
    "                          strides=[1, 2, 2, 1], padding='SAME')"
   ]
  },
  {
   "cell_type": "code",
   "execution_count": 10,
   "metadata": {
    "collapsed": false
   },
   "outputs": [],
   "source": [
    "with tf.name_scope(\"First_convolutional_layer\"):\n",
    "    with tf.name_scope(\"Weights\"):\n",
    "        W_conv1 = weight_variable(\"W_conv1\", [5, 5, 3, 32])\n",
    "        variable_summaries(W_conv1)\n",
    "    with tf.name_scope(\"Bias\"):\n",
    "        b_conv1 = bias_variable([32])\n",
    "        variable_summaries(b_conv1)\n",
    "    with tf.name_scope('Preactivation'):\n",
    "        preact1 = conv2d(images_batch, W_conv1) + b_conv1\n",
    "        tf.summary.histogram('preactivation', preact1)\n",
    "\n",
    "    h_conv1 = tf.nn.relu(preact1)\n",
    "    tf.summary.histogram(\"convolution\", h_conv1)\n",
    "    with tf.name_scope(\"Pooling\"):\n",
    "        h_pool1 = max_pool_2x2(h_conv1)"
   ]
  },
  {
   "cell_type": "markdown",
   "metadata": {},
   "source": [
    "Second convolutional layer:"
   ]
  },
  {
   "cell_type": "code",
   "execution_count": 11,
   "metadata": {
    "collapsed": false
   },
   "outputs": [],
   "source": [
    "with tf.name_scope(\"Second_convolutional_layer\"):\n",
    "    with tf.name_scope(\"Weights\"):\n",
    "        W_conv2 = weight_variable(\"W_conv2\", [5, 5, 32, 64])\n",
    "        variable_summaries(W_conv2)\n",
    "    with tf.name_scope(\"Bias\"):\n",
    "        b_conv2 = bias_variable([64])\n",
    "        variable_summaries(b_conv2)\n",
    "    with tf.name_scope(\"Preactivation\"):\n",
    "        preact2 = conv2d(h_pool1, W_conv2) + b_conv2\n",
    "        tf.summary.histogram('preactivation', preact2)\n",
    "    h_conv2 = tf.nn.relu(preact2)\n",
    "    tf.summary.histogram(\"convolution\", h_conv2)\n",
    "    with tf.name_scope(\"Pooling\"):\n",
    "        h_pool2 = max_pool_2x2(h_conv2)"
   ]
  },
  {
   "cell_type": "code",
   "execution_count": 12,
   "metadata": {
    "collapsed": false
   },
   "outputs": [],
   "source": [
    "with tf.name_scope(\"Fully_connected_layer\"):\n",
    "    with tf.name_scope(\"Weights\"):\n",
    "        W_fc1 = weight_variable(\"W_fc1\", [64 * 64 * 64, 1024])\n",
    "        variable_summaries(W_fc1)\n",
    "    with tf.name_scope(\"Bias\"):\n",
    "        b_fc1 = bias_variable([1024])\n",
    "        variable_summaries(b_fc1)\n",
    "        \n",
    "    h_pool2_flat = tf.reshape(h_pool2, [-1, 64 * 64 * 64])\n",
    "    with tf.name_scope(\"Preactivation\"):\n",
    "        preact3 = tf.matmul(h_pool2_flat, W_fc1) + b_fc1\n",
    "        variable_summaries(preact3)\n",
    "    \n",
    "    h_fc1 = tf.nn.relu(preact3)\n",
    "    tf.summary.histogram('Fully_connected_output', h_fc1)"
   ]
  },
  {
   "cell_type": "code",
   "execution_count": 13,
   "metadata": {
    "collapsed": true
   },
   "outputs": [],
   "source": [
    "with tf.name_scope(\"Dropout\"):\n",
    "    keep_prob = tf.placeholder(tf.float32)\n",
    "    tf.summary.scalar('Keep_Probability', keep_prob)\n",
    "    h_fc1_drop = tf.nn.dropout(h_fc1, keep_prob)"
   ]
  },
  {
   "cell_type": "code",
   "execution_count": 14,
   "metadata": {
    "collapsed": true
   },
   "outputs": [],
   "source": [
    "with tf.name_scope(\"Readout\"):\n",
    "    with tf.name_scope(\"Weights\"):\n",
    "        W_fc2 = weight_variable(\"W_fc2\", [1024, 3])\n",
    "        variable_summaries(W_fc2)\n",
    "    with tf.name_scope(\"Bias\"):\n",
    "        b_fc2 = bias_variable([3])\n",
    "        variable_summaries(b_fc2)\n",
    "    with tf.name_scope(\"Activation\"):\n",
    "        y_conv = tf.matmul(h_fc1_drop, W_fc2) + b_fc2\n",
    "        variable_summaries(y_conv)"
   ]
  },
  {
   "cell_type": "code",
   "execution_count": 15,
   "metadata": {
    "collapsed": false
   },
   "outputs": [],
   "source": [
    "with tf.name_scope(\"Loss\"):\n",
    "    loss = tf.nn.sparse_softmax_cross_entropy_with_logits(y_conv, labels_batch)\n",
    "    loss_mean = tf.reduce_mean(loss)\n",
    "    tf.summary.scalar('Mean_loss', loss_mean)\n",
    "with tf.name_scope(\"Train\"):\n",
    "    train_op = tf.train.AdamOptimizer(1e-5).minimize(loss_mean)"
   ]
  },
  {
   "cell_type": "code",
   "execution_count": 16,
   "metadata": {
    "collapsed": false
   },
   "outputs": [],
   "source": [
    "y_pred = tf.cast(tf.argmax(y_conv, 1), tf.int32)"
   ]
  },
  {
   "cell_type": "code",
   "execution_count": 17,
   "metadata": {
    "collapsed": false
   },
   "outputs": [],
   "source": [
    "with tf.name_scope(\"Accuracy\"):\n",
    "    with tf.name_scope(\"Correct_prediction\"):\n",
    "        correct_prediction = tf.equal(y_pred, labels_batch)\n",
    "    with tf.name_scope(\"Accuracy\"):\n",
    "        accuracy = tf.reduce_mean(tf.cast(correct_prediction, tf.float32))\n",
    "        tf.summary.scalar('Accuracy', accuracy)\n"
   ]
  },
  {
   "cell_type": "code",
   "execution_count": 18,
   "metadata": {
    "collapsed": true
   },
   "outputs": [],
   "source": [
    "with tf.name_scope(\"Evaluation\"):\n",
    "\n",
    "    # These variables are used for evaluation (helping to decide when to stop training):\n",
    "    image_eval, label_eval = read_and_decode(\"../data/cells_eval.tfrecords\")\n",
    "\n",
    "    # We use a different batch of 40 every time: \n",
    "    images_eval_batch, labels_eval_batch = tf.train.batch(\n",
    "                [image_eval, label_eval], batch_size=40,\n",
    "                shapes=(im_1.shape, lab_1.shape))\n",
    "\n",
    "    # Reproducing the entire network on eval data:\n",
    "    h_conv1_eval = tf.nn.relu(conv2d(images_eval_batch, W_conv1) + b_conv1)\n",
    "    h_pool1_eval = max_pool_2x2(h_conv1_eval)\n",
    "\n",
    "    h_conv2_eval = tf.nn.relu(conv2d(h_pool1_eval, W_conv2) + b_conv2)\n",
    "    h_pool2_eval = max_pool_2x2(h_conv2_eval)\n",
    "\n",
    "    h_pool2_flat_eval = tf.reshape(h_pool2_eval, [-1, 64 * 64 * 64])\n",
    "    h_fc1_eval = tf.nn.relu(tf.matmul(h_pool2_flat_eval, W_fc1) + b_fc1)\n",
    "\n",
    "    y_pred_eval = tf.matmul(h_fc1_eval, W_fc2) + b_fc2\n",
    "\n",
    "    correct_prediction_eval = tf.reduce_mean(\n",
    "        tf.cast(\n",
    "            tf.equal(\n",
    "                tf.cast(\n",
    "                    tf.argmax(y_pred_eval, 1), tf.int32), labels_eval_batch), \n",
    "                tf.float32))\n",
    "\n",
    "    tf.summary.scalar('correct_prediction_eval', correct_prediction_eval)"
   ]
  },
  {
   "cell_type": "code",
   "execution_count": 19,
   "metadata": {
    "collapsed": true
   },
   "outputs": [],
   "source": [
    "# These will be used for a final test:\n",
    "image_test, label_test = read_and_decode(\"../data/cells_test.tfrecords\")\n",
    "\n",
    "# Use the whole thing  \n",
    "images_test_batch, labels_test_batch = tf.train.batch(\n",
    "            [image_test, label_test], batch_size=40,\n",
    "            shapes=(im_1.shape, lab_1.shape))\n",
    "\n",
    "# Reproducing the entire network on eval data:\n",
    "h_conv1_test = tf.nn.relu(conv2d(images_test_batch, W_conv1) + b_conv1)\n",
    "h_pool1_test = max_pool_2x2(h_conv1_test)\n",
    "\n",
    "h_conv2_test = tf.nn.relu(conv2d(h_pool1_test, W_conv2) + b_conv2)\n",
    "h_pool2_test = max_pool_2x2(h_conv2_test)\n",
    "\n",
    "h_pool2_flat_test = tf.reshape(h_pool2_test, [-1, 64 * 64 * 64])\n",
    "h_fc1_test = tf.nn.relu(tf.matmul(h_pool2_flat_test, W_fc1) + b_fc1)\n",
    "\n",
    "y_pred_test = tf.matmul(h_fc1_test, W_fc2) + b_fc2\n",
    "\n",
    "correct_prediction_test = tf.reduce_mean(\n",
    "    tf.cast(\n",
    "        tf.equal(\n",
    "            tf.cast(\n",
    "                tf.argmax(y_pred_test, 1), tf.int32), labels_test_batch), \n",
    "            tf.float32))"
   ]
  },
  {
   "cell_type": "code",
   "execution_count": 20,
   "metadata": {
    "collapsed": false
   },
   "outputs": [],
   "source": [
    "sess = tf.Session()"
   ]
  },
  {
   "cell_type": "code",
   "execution_count": 21,
   "metadata": {
    "collapsed": false
   },
   "outputs": [],
   "source": [
    "merged = tf.summary.merge_all()\n",
    "log_dir = './logs'\n",
    "train_writer = tf.summary.FileWriter(op.join(log_dir, 'train'), sess.graph)\n",
    "eval_writer = tf.summary.FileWriter(op.join(log_dir, 'evaluation'))"
   ]
  },
  {
   "cell_type": "code",
   "execution_count": 22,
   "metadata": {
    "collapsed": false
   },
   "outputs": [
    {
     "data": {
      "text/plain": [
       "[<Thread(Thread-13, started daemon 123145435439104)>,\n",
       " <Thread(Thread-14, started daemon 123145440694272)>,\n",
       " <Thread(Thread-15, started daemon 123145445949440)>,\n",
       " <Thread(Thread-16, started daemon 123145451204608)>,\n",
       " <Thread(Thread-17, started daemon 123145456459776)>,\n",
       " <Thread(Thread-18, started daemon 123145461714944)>,\n",
       " <Thread(Thread-19, started daemon 123145466970112)>]"
      ]
     },
     "execution_count": 22,
     "metadata": {},
     "output_type": "execute_result"
    }
   ],
   "source": [
    "init = tf.global_variables_initializer()\n",
    "sess.run(init)\n",
    "tf.train.start_queue_runners(sess=sess)"
   ]
  },
  {
   "cell_type": "code",
   "execution_count": 23,
   "metadata": {
    "collapsed": false,
    "scrolled": false
   },
   "outputs": [
    {
     "name": "stdout",
     "output_type": "stream",
     "text": [
      "At step 0, mean evaluated accuracy is: 0.32\n",
      "At step 10, mean evaluated accuracy is: 0.25\n",
      "At step 20, mean evaluated accuracy is: 0.55\n",
      "At step 30, mean evaluated accuracy is: 0.55\n",
      "At step 40, mean evaluated accuracy is: 0.65\n",
      "At step 50, mean evaluated accuracy is: 0.55\n",
      "At step 60, mean evaluated accuracy is: 0.62\n",
      "At step 70, mean evaluated accuracy is: 0.57\n",
      "At step 80, mean evaluated accuracy is: 0.65\n",
      "At step 90, mean evaluated accuracy is: 0.65\n",
      "At step 100, mean evaluated accuracy is: 0.65\n",
      "At step 110, mean evaluated accuracy is: 0.68\n",
      "At step 120, mean evaluated accuracy is: 0.68\n",
      "At step 130, mean evaluated accuracy is: 0.70\n",
      "At step 140, mean evaluated accuracy is: 0.75\n",
      "At step 150, mean evaluated accuracy is: 0.60\n",
      "At step 160, mean evaluated accuracy is: 0.65\n",
      "At step 170, mean evaluated accuracy is: 0.68\n",
      "At step 180, mean evaluated accuracy is: 0.70\n",
      "At step 190, mean evaluated accuracy is: 0.77\n",
      "At step 200, mean evaluated accuracy is: 0.62\n",
      "At step 210, mean evaluated accuracy is: 0.62\n",
      "At step 220, mean evaluated accuracy is: 0.73\n",
      "At step 230, mean evaluated accuracy is: 0.80\n",
      "At step 240, mean evaluated accuracy is: 0.73\n",
      "At step 250, mean evaluated accuracy is: 0.70\n",
      "At step 260, mean evaluated accuracy is: 0.68\n",
      "At step 270, mean evaluated accuracy is: 0.73\n",
      "At step 280, mean evaluated accuracy is: 0.75\n",
      "At step 290, mean evaluated accuracy is: 0.77\n",
      "At step 300, mean evaluated accuracy is: 0.77\n",
      "At step 310, mean evaluated accuracy is: 0.65\n",
      "At step 320, mean evaluated accuracy is: 0.80\n",
      "At step 330, mean evaluated accuracy is: 0.77\n",
      "At step 340, mean evaluated accuracy is: 0.75\n",
      "At step 350, mean evaluated accuracy is: 0.82\n",
      "At step 360, mean evaluated accuracy is: 0.75\n",
      "At step 370, mean evaluated accuracy is: 0.73\n",
      "At step 380, mean evaluated accuracy is: 0.82\n",
      "At step 390, mean evaluated accuracy is: 0.75\n",
      "At step 400, mean evaluated accuracy is: 0.80\n",
      "At step 410, mean evaluated accuracy is: 0.73\n",
      "At step 420, mean evaluated accuracy is: 0.70\n",
      "At step 430, mean evaluated accuracy is: 0.80\n",
      "At step 440, mean evaluated accuracy is: 0.68\n",
      "At step 450, mean evaluated accuracy is: 0.73\n",
      "At step 460, mean evaluated accuracy is: 0.73\n",
      "At step 470, mean evaluated accuracy is: 0.77\n",
      "At step 480, mean evaluated accuracy is: 0.77\n",
      "At step 490, mean evaluated accuracy is: 0.82\n",
      "At step 500, mean evaluated accuracy is: 0.70\n",
      "At step 510, mean evaluated accuracy is: 0.82\n",
      "At step 520, mean evaluated accuracy is: 0.77\n",
      "At step 530, mean evaluated accuracy is: 0.77\n",
      "At step 540, mean evaluated accuracy is: 0.73\n",
      "At step 550, mean evaluated accuracy is: 0.73\n",
      "At step 560, mean evaluated accuracy is: 0.80\n",
      "At step 570, mean evaluated accuracy is: 0.82\n",
      "At step 580, mean evaluated accuracy is: 0.80\n",
      "At step 590, mean evaluated accuracy is: 0.77\n",
      "At step 600, mean evaluated accuracy is: 0.80\n",
      "At step 610, mean evaluated accuracy is: 0.82\n",
      "At step 620, mean evaluated accuracy is: 0.80\n",
      "At step 630, mean evaluated accuracy is: 0.80\n",
      "At step 640, mean evaluated accuracy is: 0.77\n",
      "At step 650, mean evaluated accuracy is: 0.82\n",
      "At step 660, mean evaluated accuracy is: 0.77\n",
      "At step 670, mean evaluated accuracy is: 0.77\n",
      "At step 680, mean evaluated accuracy is: 0.82\n",
      "At step 690, mean evaluated accuracy is: 0.75\n",
      "At step 700, mean evaluated accuracy is: 0.77\n",
      "At step 710, mean evaluated accuracy is: 0.85\n",
      "At step 720, mean evaluated accuracy is: 0.77\n",
      "At step 730, mean evaluated accuracy is: 0.80\n",
      "At step 740, mean evaluated accuracy is: 0.75\n",
      "At step 750, mean evaluated accuracy is: 0.75\n",
      "At step 760, mean evaluated accuracy is: 0.77\n",
      "At step 770, mean evaluated accuracy is: 0.73\n",
      "At step 780, mean evaluated accuracy is: 0.75\n",
      "At step 790, mean evaluated accuracy is: 0.70\n",
      "At step 800, mean evaluated accuracy is: 0.77\n",
      "At step 810, mean evaluated accuracy is: 0.90\n",
      "At step 820, mean evaluated accuracy is: 0.73\n",
      "At step 830, mean evaluated accuracy is: 0.75\n",
      "At step 840, mean evaluated accuracy is: 0.80\n",
      "At step 850, mean evaluated accuracy is: 0.75\n",
      "At step 860, mean evaluated accuracy is: 0.82\n",
      "At step 870, mean evaluated accuracy is: 0.75\n",
      "At step 880, mean evaluated accuracy is: 0.77\n",
      "At step 890, mean evaluated accuracy is: 0.82\n",
      "At step 900, mean evaluated accuracy is: 0.80\n",
      "At step 910, mean evaluated accuracy is: 0.88\n",
      "At step 920, mean evaluated accuracy is: 0.75\n",
      "At step 930, mean evaluated accuracy is: 0.80\n",
      "At step 940, mean evaluated accuracy is: 0.80\n",
      "At step 950, mean evaluated accuracy is: 0.77\n",
      "At step 960, mean evaluated accuracy is: 0.82\n",
      "At step 970, mean evaluated accuracy is: 0.77\n",
      "At step 980, mean evaluated accuracy is: 0.77\n",
      "At step 990, mean evaluated accuracy is: 0.75\n",
      "At step 1000, mean evaluated accuracy is: 0.77\n",
      "At step 1010, mean evaluated accuracy is: 0.88\n",
      "At step 1020, mean evaluated accuracy is: 0.75\n",
      "At step 1030, mean evaluated accuracy is: 0.75\n",
      "At step 1040, mean evaluated accuracy is: 0.80\n",
      "At step 1050, mean evaluated accuracy is: 0.80\n",
      "At step 1060, mean evaluated accuracy is: 0.82\n",
      "At step 1070, mean evaluated accuracy is: 0.75\n",
      "At step 1080, mean evaluated accuracy is: 0.77\n",
      "At step 1090, mean evaluated accuracy is: 0.82\n",
      "At step 1100, mean evaluated accuracy is: 0.80\n",
      "At step 1110, mean evaluated accuracy is: 0.82\n",
      "At step 1120, mean evaluated accuracy is: 0.77\n",
      "At step 1130, mean evaluated accuracy is: 0.77\n",
      "At step 1140, mean evaluated accuracy is: 0.73\n",
      "At step 1150, mean evaluated accuracy is: 0.77\n",
      "At step 1160, mean evaluated accuracy is: 0.85\n",
      "At step 1170, mean evaluated accuracy is: 0.73\n",
      "At step 1180, mean evaluated accuracy is: 0.80\n",
      "At step 1190, mean evaluated accuracy is: 0.80\n",
      "At step 1200, mean evaluated accuracy is: 0.80\n",
      "At step 1210, mean evaluated accuracy is: 0.82\n",
      "At step 1220, mean evaluated accuracy is: 0.68\n",
      "At step 1230, mean evaluated accuracy is: 0.80\n",
      "At step 1240, mean evaluated accuracy is: 0.77\n",
      "At step 1250, mean evaluated accuracy is: 0.77\n",
      "At step 1260, mean evaluated accuracy is: 0.82\n",
      "At step 1270, mean evaluated accuracy is: 0.73\n",
      "At step 1280, mean evaluated accuracy is: 0.82\n",
      "At step 1290, mean evaluated accuracy is: 0.85\n",
      "At step 1300, mean evaluated accuracy is: 0.75\n",
      "At step 1310, mean evaluated accuracy is: 0.75\n",
      "At step 1320, mean evaluated accuracy is: 0.73\n",
      "At step 1330, mean evaluated accuracy is: 0.82\n",
      "At step 1340, mean evaluated accuracy is: 0.93\n",
      "At step 1350, mean evaluated accuracy is: 0.73\n",
      "At step 1360, mean evaluated accuracy is: 0.75\n",
      "At step 1370, mean evaluated accuracy is: 0.70\n",
      "At step 1380, mean evaluated accuracy is: 0.77\n",
      "At step 1390, mean evaluated accuracy is: 0.88\n",
      "At step 1400, mean evaluated accuracy is: 0.73\n",
      "At step 1410, mean evaluated accuracy is: 0.80\n",
      "At step 1420, mean evaluated accuracy is: 0.77\n",
      "At step 1430, mean evaluated accuracy is: 0.82\n",
      "At step 1440, mean evaluated accuracy is: 0.88\n",
      "At step 1450, mean evaluated accuracy is: 0.65\n",
      "At step 1460, mean evaluated accuracy is: 0.77\n",
      "At step 1470, mean evaluated accuracy is: 0.80\n",
      "At step 1480, mean evaluated accuracy is: 0.80\n",
      "At step 1490, mean evaluated accuracy is: 0.85\n",
      "At step 1500, mean evaluated accuracy is: 0.75\n",
      "At step 1510, mean evaluated accuracy is: 0.80\n",
      "At step 1520, mean evaluated accuracy is: 0.80\n",
      "At step 1530, mean evaluated accuracy is: 0.82\n",
      "At step 1540, mean evaluated accuracy is: 0.85\n",
      "At step 1550, mean evaluated accuracy is: 0.73\n",
      "At step 1560, mean evaluated accuracy is: 0.75\n",
      "At step 1570, mean evaluated accuracy is: 0.77\n",
      "At step 1580, mean evaluated accuracy is: 0.80\n",
      "At step 1590, mean evaluated accuracy is: 0.82\n",
      "At step 1600, mean evaluated accuracy is: 0.70\n",
      "At step 1610, mean evaluated accuracy is: 0.73\n",
      "At step 1620, mean evaluated accuracy is: 0.77\n",
      "At step 1630, mean evaluated accuracy is: 0.82\n",
      "At step 1640, mean evaluated accuracy is: 0.80\n",
      "At step 1650, mean evaluated accuracy is: 0.73\n",
      "At step 1660, mean evaluated accuracy is: 0.85\n",
      "At step 1670, mean evaluated accuracy is: 0.77\n",
      "At step 1680, mean evaluated accuracy is: 0.82\n",
      "At step 1690, mean evaluated accuracy is: 0.85\n",
      "At step 1700, mean evaluated accuracy is: 0.70\n",
      "At step 1710, mean evaluated accuracy is: 0.80\n",
      "At step 1720, mean evaluated accuracy is: 0.70\n",
      "At step 1730, mean evaluated accuracy is: 0.80\n",
      "At step 1740, mean evaluated accuracy is: 0.82\n",
      "At step 1750, mean evaluated accuracy is: 0.70\n",
      "At step 1760, mean evaluated accuracy is: 0.80\n",
      "At step 1770, mean evaluated accuracy is: 0.75\n",
      "At step 1780, mean evaluated accuracy is: 0.75\n",
      "At step 1790, mean evaluated accuracy is: 0.85\n",
      "At step 1800, mean evaluated accuracy is: 0.68\n",
      "At step 1810, mean evaluated accuracy is: 0.77\n",
      "At step 1820, mean evaluated accuracy is: 0.82\n",
      "At step 1830, mean evaluated accuracy is: 0.80\n",
      "At step 1840, mean evaluated accuracy is: 0.77\n",
      "At step 1850, mean evaluated accuracy is: 0.68\n",
      "At step 1860, mean evaluated accuracy is: 0.80\n",
      "At step 1870, mean evaluated accuracy is: 0.80\n",
      "At step 1880, mean evaluated accuracy is: 0.73\n",
      "At step 1890, mean evaluated accuracy is: 0.75\n",
      "At step 1900, mean evaluated accuracy is: 0.70\n",
      "At step 1910, mean evaluated accuracy is: 0.77\n",
      "At step 1920, mean evaluated accuracy is: 0.88\n",
      "At step 1930, mean evaluated accuracy is: 0.73\n",
      "At step 1940, mean evaluated accuracy is: 0.75\n",
      "At step 1950, mean evaluated accuracy is: 0.73\n",
      "At step 1960, mean evaluated accuracy is: 0.80\n",
      "At step 1970, mean evaluated accuracy is: 0.80\n",
      "At step 1980, mean evaluated accuracy is: 0.75\n",
      "At step 1990, mean evaluated accuracy is: 0.77\n",
      "At step 2000, mean evaluated accuracy is: 0.77\n",
      "At step 2010, mean evaluated accuracy is: 0.82\n",
      "At step 2020, mean evaluated accuracy is: 0.88\n",
      "At step 2030, mean evaluated accuracy is: 0.73\n",
      "At step 2040, mean evaluated accuracy is: 0.80\n",
      "At step 2050, mean evaluated accuracy is: 0.77\n",
      "At step 2060, mean evaluated accuracy is: 0.80\n",
      "At step 2070, mean evaluated accuracy is: 0.82\n",
      "At step 2080, mean evaluated accuracy is: 0.70\n",
      "At step 2090, mean evaluated accuracy is: 0.80\n",
      "At step 2100, mean evaluated accuracy is: 0.82\n",
      "At step 2110, mean evaluated accuracy is: 0.77\n",
      "At step 2120, mean evaluated accuracy is: 0.80\n",
      "At step 2130, mean evaluated accuracy is: 0.73\n",
      "At step 2140, mean evaluated accuracy is: 0.73\n",
      "At step 2150, mean evaluated accuracy is: 0.73\n",
      "At step 2160, mean evaluated accuracy is: 0.77\n",
      "At step 2170, mean evaluated accuracy is: 0.82\n",
      "At step 2180, mean evaluated accuracy is: 0.73\n",
      "At step 2190, mean evaluated accuracy is: 0.77\n",
      "At step 2200, mean evaluated accuracy is: 0.75\n",
      "At step 2210, mean evaluated accuracy is: 0.82\n",
      "At step 2220, mean evaluated accuracy is: 0.82\n",
      "At step 2230, mean evaluated accuracy is: 0.75\n",
      "At step 2240, mean evaluated accuracy is: 0.82\n",
      "At step 2250, mean evaluated accuracy is: 0.75\n",
      "At step 2260, mean evaluated accuracy is: 0.80\n",
      "At step 2270, mean evaluated accuracy is: 0.82\n",
      "At step 2280, mean evaluated accuracy is: 0.73\n",
      "At step 2290, mean evaluated accuracy is: 0.77\n",
      "At step 2300, mean evaluated accuracy is: 0.80\n",
      "At step 2310, mean evaluated accuracy is: 0.80\n",
      "At step 2320, mean evaluated accuracy is: 0.82\n",
      "At step 2330, mean evaluated accuracy is: 0.73\n",
      "At step 2340, mean evaluated accuracy is: 0.77\n",
      "At step 2350, mean evaluated accuracy is: 0.80\n",
      "At step 2360, mean evaluated accuracy is: 0.77\n",
      "At step 2370, mean evaluated accuracy is: 0.82\n",
      "At step 2380, mean evaluated accuracy is: 0.68\n",
      "At step 2390, mean evaluated accuracy is: 0.80\n",
      "At step 2400, mean evaluated accuracy is: 0.82\n",
      "At step 2410, mean evaluated accuracy is: 0.75\n",
      "At step 2420, mean evaluated accuracy is: 0.75\n",
      "At step 2430, mean evaluated accuracy is: 0.68\n",
      "At step 2440, mean evaluated accuracy is: 0.82\n",
      "At step 2450, mean evaluated accuracy is: 0.77\n",
      "At step 2460, mean evaluated accuracy is: 0.75\n",
      "At step 2470, mean evaluated accuracy is: 0.75\n",
      "At step 2480, mean evaluated accuracy is: 0.73\n",
      "At step 2490, mean evaluated accuracy is: 0.77\n",
      "At step 2500, mean evaluated accuracy is: 0.82\n",
      "At step 2510, mean evaluated accuracy is: 0.73\n",
      "At step 2520, mean evaluated accuracy is: 0.75\n",
      "At step 2530, mean evaluated accuracy is: 0.77\n",
      "At step 2540, mean evaluated accuracy is: 0.80\n",
      "At step 2550, mean evaluated accuracy is: 0.85\n",
      "At step 2560, mean evaluated accuracy is: 0.75\n",
      "At step 2570, mean evaluated accuracy is: 0.77\n",
      "At step 2580, mean evaluated accuracy is: 0.80\n",
      "At step 2590, mean evaluated accuracy is: 0.85\n",
      "At step 2600, mean evaluated accuracy is: 0.88\n",
      "At step 2610, mean evaluated accuracy is: 0.73\n",
      "At step 2620, mean evaluated accuracy is: 0.77\n",
      "At step 2630, mean evaluated accuracy is: 0.82\n",
      "At step 2640, mean evaluated accuracy is: 0.80\n",
      "At step 2650, mean evaluated accuracy is: 0.82\n",
      "At step 2660, mean evaluated accuracy is: 0.75\n",
      "At step 2670, mean evaluated accuracy is: 0.77\n",
      "At step 2680, mean evaluated accuracy is: 0.77\n",
      "At step 2690, mean evaluated accuracy is: 0.82\n",
      "At step 2700, mean evaluated accuracy is: 0.85\n",
      "At step 2710, mean evaluated accuracy is: 0.75\n",
      "At step 2720, mean evaluated accuracy is: 0.77\n",
      "At step 2730, mean evaluated accuracy is: 0.73\n",
      "At step 2740, mean evaluated accuracy is: 0.85\n",
      "At step 2750, mean evaluated accuracy is: 0.82\n",
      "At step 2760, mean evaluated accuracy is: 0.70\n",
      "At step 2770, mean evaluated accuracy is: 0.75\n",
      "At step 2780, mean evaluated accuracy is: 0.73\n",
      "At step 2790, mean evaluated accuracy is: 0.82\n",
      "At step 2800, mean evaluated accuracy is: 0.80\n",
      "At step 2810, mean evaluated accuracy is: 0.75\n",
      "At step 2820, mean evaluated accuracy is: 0.75\n",
      "At step 2830, mean evaluated accuracy is: 0.73\n",
      "At step 2840, mean evaluated accuracy is: 0.77\n",
      "At step 2850, mean evaluated accuracy is: 0.85\n",
      "At step 2860, mean evaluated accuracy is: 0.73\n",
      "At step 2870, mean evaluated accuracy is: 0.77\n",
      "At step 2880, mean evaluated accuracy is: 0.77\n",
      "At step 2890, mean evaluated accuracy is: 0.77\n",
      "At step 2900, mean evaluated accuracy is: 0.82\n",
      "At step 2910, mean evaluated accuracy is: 0.73\n",
      "At step 2920, mean evaluated accuracy is: 0.77\n",
      "At step 2930, mean evaluated accuracy is: 0.77\n",
      "At step 2940, mean evaluated accuracy is: 0.77\n",
      "At step 2950, mean evaluated accuracy is: 0.82\n",
      "At step 2960, mean evaluated accuracy is: 0.70\n",
      "At step 2970, mean evaluated accuracy is: 0.77\n",
      "At step 2980, mean evaluated accuracy is: 0.80\n",
      "At step 2990, mean evaluated accuracy is: 0.73\n",
      "At step 3000, mean evaluated accuracy is: 0.75\n",
      "At step 3010, mean evaluated accuracy is: 0.75\n",
      "At step 3020, mean evaluated accuracy is: 0.77\n",
      "At step 3030, mean evaluated accuracy is: 0.88\n",
      "At step 3040, mean evaluated accuracy is: 0.70\n",
      "At step 3050, mean evaluated accuracy is: 0.75\n"
     ]
    },
    {
     "ename": "KeyboardInterrupt",
     "evalue": "",
     "output_type": "error",
     "traceback": [
      "\u001b[0;31m---------------------------------------------------------------------------\u001b[0m",
      "\u001b[0;31mKeyboardInterrupt\u001b[0m                         Traceback (most recent call last)",
      "\u001b[0;32m<ipython-input-23-f1fc221b3110>\u001b[0m in \u001b[0;36m<module>\u001b[0;34m()\u001b[0m\n\u001b[1;32m      5\u001b[0m \u001b[0;34m\u001b[0m\u001b[0m\n\u001b[1;32m      6\u001b[0m \u001b[0;32mwhile\u001b[0m \u001b[0;32mTrue\u001b[0m\u001b[0;34m:\u001b[0m\u001b[0;34m\u001b[0m\u001b[0m\n\u001b[0;32m----> 7\u001b[0;31m     \u001b[0m_\u001b[0m\u001b[0;34m,\u001b[0m \u001b[0mloss_mean_val\u001b[0m\u001b[0;34m,\u001b[0m \u001b[0msummary\u001b[0m \u001b[0;34m=\u001b[0m \u001b[0msess\u001b[0m\u001b[0;34m.\u001b[0m\u001b[0mrun\u001b[0m\u001b[0;34m(\u001b[0m\u001b[0;34m[\u001b[0m\u001b[0mtrain_op\u001b[0m\u001b[0;34m,\u001b[0m \u001b[0mloss_mean\u001b[0m\u001b[0;34m,\u001b[0m \u001b[0mmerged\u001b[0m\u001b[0;34m]\u001b[0m\u001b[0;34m,\u001b[0m \u001b[0mfeed_dict\u001b[0m\u001b[0;34m=\u001b[0m\u001b[0;34m{\u001b[0m\u001b[0mkeep_prob\u001b[0m\u001b[0;34m:\u001b[0m \u001b[0;36m0.5\u001b[0m\u001b[0;34m}\u001b[0m\u001b[0;34m)\u001b[0m\u001b[0;34m\u001b[0m\u001b[0m\n\u001b[0m\u001b[1;32m      8\u001b[0m     \u001b[0mmean_losses\u001b[0m\u001b[0;34m.\u001b[0m\u001b[0mappend\u001b[0m\u001b[0;34m(\u001b[0m\u001b[0mloss_mean_val\u001b[0m\u001b[0;34m)\u001b[0m\u001b[0;34m\u001b[0m\u001b[0m\n\u001b[1;32m      9\u001b[0m     \u001b[0;31m# Write summary into the training writer\u001b[0m\u001b[0;34m\u001b[0m\u001b[0;34m\u001b[0m\u001b[0m\n",
      "\u001b[0;32m/Users/arokem/anaconda/lib/python3.5/site-packages/tensorflow/python/client/session.py\u001b[0m in \u001b[0;36mrun\u001b[0;34m(self, fetches, feed_dict, options, run_metadata)\u001b[0m\n\u001b[1;32m    764\u001b[0m     \u001b[0;32mtry\u001b[0m\u001b[0;34m:\u001b[0m\u001b[0;34m\u001b[0m\u001b[0m\n\u001b[1;32m    765\u001b[0m       result = self._run(None, fetches, feed_dict, options_ptr,\n\u001b[0;32m--> 766\u001b[0;31m                          run_metadata_ptr)\n\u001b[0m\u001b[1;32m    767\u001b[0m       \u001b[0;32mif\u001b[0m \u001b[0mrun_metadata\u001b[0m\u001b[0;34m:\u001b[0m\u001b[0;34m\u001b[0m\u001b[0m\n\u001b[1;32m    768\u001b[0m         \u001b[0mproto_data\u001b[0m \u001b[0;34m=\u001b[0m \u001b[0mtf_session\u001b[0m\u001b[0;34m.\u001b[0m\u001b[0mTF_GetBuffer\u001b[0m\u001b[0;34m(\u001b[0m\u001b[0mrun_metadata_ptr\u001b[0m\u001b[0;34m)\u001b[0m\u001b[0;34m\u001b[0m\u001b[0m\n",
      "\u001b[0;32m/Users/arokem/anaconda/lib/python3.5/site-packages/tensorflow/python/client/session.py\u001b[0m in \u001b[0;36m_run\u001b[0;34m(self, handle, fetches, feed_dict, options, run_metadata)\u001b[0m\n\u001b[1;32m    962\u001b[0m     \u001b[0;32mif\u001b[0m \u001b[0mfinal_fetches\u001b[0m \u001b[0;32mor\u001b[0m \u001b[0mfinal_targets\u001b[0m\u001b[0;34m:\u001b[0m\u001b[0;34m\u001b[0m\u001b[0m\n\u001b[1;32m    963\u001b[0m       results = self._do_run(handle, final_targets, final_fetches,\n\u001b[0;32m--> 964\u001b[0;31m                              feed_dict_string, options, run_metadata)\n\u001b[0m\u001b[1;32m    965\u001b[0m     \u001b[0;32melse\u001b[0m\u001b[0;34m:\u001b[0m\u001b[0;34m\u001b[0m\u001b[0m\n\u001b[1;32m    966\u001b[0m       \u001b[0mresults\u001b[0m \u001b[0;34m=\u001b[0m \u001b[0;34m[\u001b[0m\u001b[0;34m]\u001b[0m\u001b[0;34m\u001b[0m\u001b[0m\n",
      "\u001b[0;32m/Users/arokem/anaconda/lib/python3.5/site-packages/tensorflow/python/client/session.py\u001b[0m in \u001b[0;36m_do_run\u001b[0;34m(self, handle, target_list, fetch_list, feed_dict, options, run_metadata)\u001b[0m\n\u001b[1;32m   1012\u001b[0m     \u001b[0;32mif\u001b[0m \u001b[0mhandle\u001b[0m \u001b[0;32mis\u001b[0m \u001b[0;32mNone\u001b[0m\u001b[0;34m:\u001b[0m\u001b[0;34m\u001b[0m\u001b[0m\n\u001b[1;32m   1013\u001b[0m       return self._do_call(_run_fn, self._session, feed_dict, fetch_list,\n\u001b[0;32m-> 1014\u001b[0;31m                            target_list, options, run_metadata)\n\u001b[0m\u001b[1;32m   1015\u001b[0m     \u001b[0;32melse\u001b[0m\u001b[0;34m:\u001b[0m\u001b[0;34m\u001b[0m\u001b[0m\n\u001b[1;32m   1016\u001b[0m       return self._do_call(_prun_fn, self._session, handle, feed_dict,\n",
      "\u001b[0;32m/Users/arokem/anaconda/lib/python3.5/site-packages/tensorflow/python/client/session.py\u001b[0m in \u001b[0;36m_do_call\u001b[0;34m(self, fn, *args)\u001b[0m\n\u001b[1;32m   1019\u001b[0m   \u001b[0;32mdef\u001b[0m \u001b[0m_do_call\u001b[0m\u001b[0;34m(\u001b[0m\u001b[0mself\u001b[0m\u001b[0;34m,\u001b[0m \u001b[0mfn\u001b[0m\u001b[0;34m,\u001b[0m \u001b[0;34m*\u001b[0m\u001b[0margs\u001b[0m\u001b[0;34m)\u001b[0m\u001b[0;34m:\u001b[0m\u001b[0;34m\u001b[0m\u001b[0m\n\u001b[1;32m   1020\u001b[0m     \u001b[0;32mtry\u001b[0m\u001b[0;34m:\u001b[0m\u001b[0;34m\u001b[0m\u001b[0m\n\u001b[0;32m-> 1021\u001b[0;31m       \u001b[0;32mreturn\u001b[0m \u001b[0mfn\u001b[0m\u001b[0;34m(\u001b[0m\u001b[0;34m*\u001b[0m\u001b[0margs\u001b[0m\u001b[0;34m)\u001b[0m\u001b[0;34m\u001b[0m\u001b[0m\n\u001b[0m\u001b[1;32m   1022\u001b[0m     \u001b[0;32mexcept\u001b[0m \u001b[0merrors\u001b[0m\u001b[0;34m.\u001b[0m\u001b[0mOpError\u001b[0m \u001b[0;32mas\u001b[0m \u001b[0me\u001b[0m\u001b[0;34m:\u001b[0m\u001b[0;34m\u001b[0m\u001b[0m\n\u001b[1;32m   1023\u001b[0m       \u001b[0mmessage\u001b[0m \u001b[0;34m=\u001b[0m \u001b[0mcompat\u001b[0m\u001b[0;34m.\u001b[0m\u001b[0mas_text\u001b[0m\u001b[0;34m(\u001b[0m\u001b[0me\u001b[0m\u001b[0;34m.\u001b[0m\u001b[0mmessage\u001b[0m\u001b[0;34m)\u001b[0m\u001b[0;34m\u001b[0m\u001b[0m\n",
      "\u001b[0;32m/Users/arokem/anaconda/lib/python3.5/site-packages/tensorflow/python/client/session.py\u001b[0m in \u001b[0;36m_run_fn\u001b[0;34m(session, feed_dict, fetch_list, target_list, options, run_metadata)\u001b[0m\n\u001b[1;32m   1001\u001b[0m         return tf_session.TF_Run(session, options,\n\u001b[1;32m   1002\u001b[0m                                  \u001b[0mfeed_dict\u001b[0m\u001b[0;34m,\u001b[0m \u001b[0mfetch_list\u001b[0m\u001b[0;34m,\u001b[0m \u001b[0mtarget_list\u001b[0m\u001b[0;34m,\u001b[0m\u001b[0;34m\u001b[0m\u001b[0m\n\u001b[0;32m-> 1003\u001b[0;31m                                  status, run_metadata)\n\u001b[0m\u001b[1;32m   1004\u001b[0m \u001b[0;34m\u001b[0m\u001b[0m\n\u001b[1;32m   1005\u001b[0m     \u001b[0;32mdef\u001b[0m \u001b[0m_prun_fn\u001b[0m\u001b[0;34m(\u001b[0m\u001b[0msession\u001b[0m\u001b[0;34m,\u001b[0m \u001b[0mhandle\u001b[0m\u001b[0;34m,\u001b[0m \u001b[0mfeed_dict\u001b[0m\u001b[0;34m,\u001b[0m \u001b[0mfetch_list\u001b[0m\u001b[0;34m)\u001b[0m\u001b[0;34m:\u001b[0m\u001b[0;34m\u001b[0m\u001b[0m\n",
      "\u001b[0;31mKeyboardInterrupt\u001b[0m: "
     ]
    }
   ],
   "source": [
    "n_iterations = 0\n",
    "mean_losses = []\n",
    "mean_evals = []\n",
    "max_iterations = 5000\n",
    "\n",
    "while True:    \n",
    "    _, loss_mean_val, summary = sess.run([train_op, loss_mean, merged], feed_dict={keep_prob: 0.5})\n",
    "    mean_losses.append(loss_mean_val)\n",
    "    # Write summary into the training writer\n",
    "    train_writer.add_summary(summary, n_iterations)\n",
    "    # Every 10 learning iterations, we consider whether to stop:\n",
    "    if np.mod(n_iterations, 10) == 0:\n",
    "        p, summary = sess.run([correct_prediction_eval, merged], feed_dict={keep_prob: 1.0})\n",
    "        mean_evals.append(p)\n",
    "        print(\"At step %s, mean evaluated accuracy is: %2.2f\"%(n_iterations, mean_evals[-1]))\n",
    "        # We've taken out the breaking criterion!\n",
    "        eval_writer.add_summary(summary, n_iterations)\n",
    "\n",
    "    n_iterations = n_iterations + 1  \n",
    "\n",
    "    # If you kept going for very long, break anyway:\n",
    "    if n_iterations > max_iterations:\n",
    "        break\n",
    "\n",
    "train_writer.close()\n",
    "eval_writer.close()"
   ]
  },
  {
   "cell_type": "code",
   "execution_count": 24,
   "metadata": {
    "collapsed": true
   },
   "outputs": [],
   "source": [
    "p = sess.run(correct_prediction_test)"
   ]
  },
  {
   "cell_type": "code",
   "execution_count": 25,
   "metadata": {
    "collapsed": false
   },
   "outputs": [
    {
     "name": "stdout",
     "output_type": "stream",
     "text": [
      "0.625\n"
     ]
    }
   ],
   "source": [
    "print(p)"
   ]
  },
  {
   "cell_type": "code",
   "execution_count": null,
   "metadata": {
    "collapsed": false
   },
   "outputs": [],
   "source": [
    "# saver = tf.train.Saver()\n",
    "# saver.save(sess, op.join(checkpoint_dir, \"model.ckpt\"), i)"
   ]
  },
  {
   "cell_type": "code",
   "execution_count": null,
   "metadata": {
    "collapsed": false
   },
   "outputs": [],
   "source": [
    "from tensorflow.contrib.tensorboard.plugins import projector\n",
    "summary_writer = tf.summary.FileWriter(log_dir)\n",
    "\n",
    "# Format: tensorflow/contrib/tensorboard/plugins/projector/projector_config.proto\n",
    "config = projector.ProjectorConfig()\n",
    "\n",
    "# You can add multiple embeddings. Here we add only one.\n",
    "embedding = config.embeddings.add()\n",
    "embedding.tensor_name = \"W_conv1\"\n",
    "# Link this tensor to its metadata file (e.g. labels).\n",
    "#embedding.metadata_path = op.join(log_dir, 'metadata.tsv')\n",
    "\n",
    "# Saves a configuration file that TensorBoard will read during startup.\n",
    "projector.visualize_embeddings(summary_writer, config)"
   ]
  },
  {
   "cell_type": "code",
   "execution_count": null,
   "metadata": {
    "collapsed": true
   },
   "outputs": [],
   "source": []
  }
 ],
 "metadata": {
  "kernelspec": {
   "display_name": "Python 3",
   "language": "python",
   "name": "python3"
  },
  "language_info": {
   "codemirror_mode": {
    "name": "ipython",
    "version": 3
   },
   "file_extension": ".py",
   "mimetype": "text/x-python",
   "name": "python",
   "nbconvert_exporter": "python",
   "pygments_lexer": "ipython3",
   "version": "3.5.1"
  }
 },
 "nbformat": 4,
 "nbformat_minor": 0
}
